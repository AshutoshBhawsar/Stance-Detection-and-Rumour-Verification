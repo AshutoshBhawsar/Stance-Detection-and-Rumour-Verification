{
  "nbformat": 4,
  "nbformat_minor": 0,
  "metadata": {
    "colab": {
      "name": "TASKB_ADVANCED_1_bert.ipynb",
      "provenance": []
    },
    "kernelspec": {
      "name": "python3",
      "display_name": "Python 3"
    },
    "language_info": {
      "name": "python"
    },
    "accelerator": "GPU"
  },
  "cells": [
    {
      "cell_type": "code",
      "execution_count": null,
      "metadata": {
        "id": "wHVSK-m8nC_6"
      },
      "outputs": [],
      "source": [
        "import pandas as pd"
      ]
    },
    {
      "cell_type": "code",
      "source": [
        "import tensorflow as tf\n",
        "# Getting GPU device name.\n",
        "device_name = tf.test.gpu_device_name()\n",
        "\n",
        "if device_name == '/device:GPU:0':\n",
        "    print('Found GPU at: {}'.format(device_name))\n",
        "else:\n",
        "    raise SystemError('GPU device not found')"
      ],
      "metadata": {
        "colab": {
          "base_uri": "https://localhost:8080/"
        },
        "id": "iAyAAosO3yuY",
        "outputId": "0bddd287-5987-477d-dc6d-3a7e263be436"
      },
      "execution_count": null,
      "outputs": [
        {
          "output_type": "stream",
          "name": "stdout",
          "text": [
            "Found GPU at: /device:GPU:0\n"
          ]
        }
      ]
    },
    {
      "cell_type": "code",
      "source": [
        "import torch\n",
        "# If a GPU is available\n",
        "if torch.cuda.is_available():    \n",
        "    #set device to GPU   \n",
        "    device = torch.device(\"cuda\")\n",
        "    print('There are %d GPU(s) available.' % torch.cuda.device_count())\n",
        "    print('We will use the GPU:', torch.cuda.get_device_name(0))\n",
        "\n",
        "# If no GPU is available\n",
        "else:\n",
        "    print('No GPU available, using the CPU instead.')\n",
        "    device = torch.device(\"cpu\")"
      ],
      "metadata": {
        "colab": {
          "base_uri": "https://localhost:8080/"
        },
        "id": "_Rq5WBjq3zx1",
        "outputId": "be9f590f-e307-40f4-f5a9-de2d0c620d6c"
      },
      "execution_count": null,
      "outputs": [
        {
          "output_type": "stream",
          "name": "stdout",
          "text": [
            "There are 1 GPU(s) available.\n",
            "We will use the GPU: Tesla P100-PCIE-16GB\n"
          ]
        }
      ]
    },
    {
      "cell_type": "code",
      "source": [
        "import warnings\n",
        "warnings.filterwarnings('ignore')"
      ],
      "metadata": {
        "id": "tdrjCDKqYxcc"
      },
      "execution_count": null,
      "outputs": []
    },
    {
      "cell_type": "code",
      "source": [
        "!pip install transformers\n",
        "\n",
        "\n",
        "import numpy          as np\n",
        "\n",
        "\n",
        "import transformers\n",
        "from transformers                     import  RobertaModel, RobertaTokenizer, AdamW, get_linear_schedule_with_warmup\n",
        "import torch\n",
        "\n",
        "\n",
        "\n",
        "from sklearn.metrics                  import classification_report\n",
        "\n",
        "\n",
        "from torch                            import nn, optim\n",
        "from torch.utils                      import data\n",
        "\n",
        "\n",
        "RANDOM_SEED = 64\n",
        "np.random.seed(RANDOM_SEED)\n",
        "torch.manual_seed(RANDOM_SEED)\n",
        "\n",
        "if torch.cuda.is_available():\n",
        "   torch.cuda.manual_seed(RANDOM_SEED)\n",
        "   torch.cuda.manual_seed_all(RANDOM_SEED) \n",
        "   torch.backends.cudnn.deterministic = True  \n",
        "   torch.backends.cudnn.benchmark = False\n",
        "\n",
        "\n",
        "CLASS_NAMES =  ['true','false','unverified']\n",
        "MAX_LENGTH = 200\n",
        "BATCH_SIZE = 16\n",
        "EPOCHS = 6\n",
        "HIDDEN_UNITS = 128\n",
        "\n",
        "tokenizer = transformers.RobertaTokenizer.from_pretrained('roberta-large')"
      ],
      "metadata": {
        "colab": {
          "base_uri": "https://localhost:8080/"
        },
        "id": "ypyUbXhi3d6-",
        "outputId": "059c4d5c-d8a7-439f-ecec-5ba7488f163b"
      },
      "execution_count": null,
      "outputs": [
        {
          "output_type": "stream",
          "name": "stdout",
          "text": [
            "Requirement already satisfied: transformers in /usr/local/lib/python3.7/dist-packages (4.18.0)\n",
            "Requirement already satisfied: huggingface-hub<1.0,>=0.1.0 in /usr/local/lib/python3.7/dist-packages (from transformers) (0.5.1)\n",
            "Requirement already satisfied: packaging>=20.0 in /usr/local/lib/python3.7/dist-packages (from transformers) (21.3)\n",
            "Requirement already satisfied: regex!=2019.12.17 in /usr/local/lib/python3.7/dist-packages (from transformers) (2019.12.20)\n",
            "Requirement already satisfied: requests in /usr/local/lib/python3.7/dist-packages (from transformers) (2.23.0)\n",
            "Requirement already satisfied: tokenizers!=0.11.3,<0.13,>=0.11.1 in /usr/local/lib/python3.7/dist-packages (from transformers) (0.12.1)\n",
            "Requirement already satisfied: tqdm>=4.27 in /usr/local/lib/python3.7/dist-packages (from transformers) (4.64.0)\n",
            "Requirement already satisfied: filelock in /usr/local/lib/python3.7/dist-packages (from transformers) (3.6.0)\n",
            "Requirement already satisfied: numpy>=1.17 in /usr/local/lib/python3.7/dist-packages (from transformers) (1.21.6)\n",
            "Requirement already satisfied: pyyaml>=5.1 in /usr/local/lib/python3.7/dist-packages (from transformers) (6.0)\n",
            "Requirement already satisfied: importlib-metadata in /usr/local/lib/python3.7/dist-packages (from transformers) (4.11.3)\n",
            "Requirement already satisfied: sacremoses in /usr/local/lib/python3.7/dist-packages (from transformers) (0.0.53)\n",
            "Requirement already satisfied: typing-extensions>=3.7.4.3 in /usr/local/lib/python3.7/dist-packages (from huggingface-hub<1.0,>=0.1.0->transformers) (4.2.0)\n",
            "Requirement already satisfied: pyparsing!=3.0.5,>=2.0.2 in /usr/local/lib/python3.7/dist-packages (from packaging>=20.0->transformers) (3.0.8)\n",
            "Requirement already satisfied: zipp>=0.5 in /usr/local/lib/python3.7/dist-packages (from importlib-metadata->transformers) (3.8.0)\n",
            "Requirement already satisfied: chardet<4,>=3.0.2 in /usr/local/lib/python3.7/dist-packages (from requests->transformers) (3.0.4)\n",
            "Requirement already satisfied: certifi>=2017.4.17 in /usr/local/lib/python3.7/dist-packages (from requests->transformers) (2021.10.8)\n",
            "Requirement already satisfied: idna<3,>=2.5 in /usr/local/lib/python3.7/dist-packages (from requests->transformers) (2.10)\n",
            "Requirement already satisfied: urllib3!=1.25.0,!=1.25.1,<1.26,>=1.21.1 in /usr/local/lib/python3.7/dist-packages (from requests->transformers) (1.24.3)\n",
            "Requirement already satisfied: joblib in /usr/local/lib/python3.7/dist-packages (from sacremoses->transformers) (1.1.0)\n",
            "Requirement already satisfied: six in /usr/local/lib/python3.7/dist-packages (from sacremoses->transformers) (1.15.0)\n",
            "Requirement already satisfied: click in /usr/local/lib/python3.7/dist-packages (from sacremoses->transformers) (7.1.2)\n"
          ]
        }
      ]
    },
    {
      "cell_type": "code",
      "source": [
        "trainDf = pd.read_csv('/content/drive/MyDrive/NLP/csvfiles/taskb/trainingData.csv')\n",
        "trainDf"
      ],
      "metadata": {
        "colab": {
          "base_uri": "https://localhost:8080/",
          "height": 424
        },
        "id": "Thcw4KiD2TTY",
        "outputId": "f88da9ac-3b49-4b67-fd99-58edf6b84cf7"
      },
      "execution_count": null,
      "outputs": [
        {
          "output_type": "execute_result",
          "data": {
            "text/plain": [
              "                                                  text                  id  \\\n",
              "0    France: 10 people dead after shooting at HQ of...  552783667052167168   \n",
              "1    BREAKING: 10 reportedly shot dead at Paris HQ ...  552785375161499649   \n",
              "2    BREAKING: At least 10 killed in shooting at Fr...  552791196247269378   \n",
              "3    Eleven dead in shooting at Paris offices of sa...  552791578893619200   \n",
              "4    BREAKING Charlie Hebdo latest: 11 dead 10 woun...  552792544132997121   \n",
              "..                                                 ...                 ...   \n",
              "321  [Serious] Is it true that 85% of people can on...              8gp0d7   \n",
              "322  Did Eric Schneiderman Help NXIVM Sell Child Se...              8i274x   \n",
              "323       Debunk this: The direction you sleep matters              8n9173   \n",
              "324  Is it true police officers must hit a quota at...              8unvgg   \n",
              "325  Jon Sopel: Bizarre. $MENTION$ says he came to ...              8yktu5   \n",
              "\n",
              "     label  labelvalue  \n",
              "0     true           0  \n",
              "1     true           0  \n",
              "2     true           0  \n",
              "3     true           0  \n",
              "4     true           0  \n",
              "..     ...         ...  \n",
              "321   true           0  \n",
              "322  false           1  \n",
              "323  false           1  \n",
              "324  false           1  \n",
              "325  false           1  \n",
              "\n",
              "[326 rows x 4 columns]"
            ],
            "text/html": [
              "\n",
              "  <div id=\"df-b1de5024-9bae-4d64-bedc-fa320ef5c75b\">\n",
              "    <div class=\"colab-df-container\">\n",
              "      <div>\n",
              "<style scoped>\n",
              "    .dataframe tbody tr th:only-of-type {\n",
              "        vertical-align: middle;\n",
              "    }\n",
              "\n",
              "    .dataframe tbody tr th {\n",
              "        vertical-align: top;\n",
              "    }\n",
              "\n",
              "    .dataframe thead th {\n",
              "        text-align: right;\n",
              "    }\n",
              "</style>\n",
              "<table border=\"1\" class=\"dataframe\">\n",
              "  <thead>\n",
              "    <tr style=\"text-align: right;\">\n",
              "      <th></th>\n",
              "      <th>text</th>\n",
              "      <th>id</th>\n",
              "      <th>label</th>\n",
              "      <th>labelvalue</th>\n",
              "    </tr>\n",
              "  </thead>\n",
              "  <tbody>\n",
              "    <tr>\n",
              "      <th>0</th>\n",
              "      <td>France: 10 people dead after shooting at HQ of...</td>\n",
              "      <td>552783667052167168</td>\n",
              "      <td>true</td>\n",
              "      <td>0</td>\n",
              "    </tr>\n",
              "    <tr>\n",
              "      <th>1</th>\n",
              "      <td>BREAKING: 10 reportedly shot dead at Paris HQ ...</td>\n",
              "      <td>552785375161499649</td>\n",
              "      <td>true</td>\n",
              "      <td>0</td>\n",
              "    </tr>\n",
              "    <tr>\n",
              "      <th>2</th>\n",
              "      <td>BREAKING: At least 10 killed in shooting at Fr...</td>\n",
              "      <td>552791196247269378</td>\n",
              "      <td>true</td>\n",
              "      <td>0</td>\n",
              "    </tr>\n",
              "    <tr>\n",
              "      <th>3</th>\n",
              "      <td>Eleven dead in shooting at Paris offices of sa...</td>\n",
              "      <td>552791578893619200</td>\n",
              "      <td>true</td>\n",
              "      <td>0</td>\n",
              "    </tr>\n",
              "    <tr>\n",
              "      <th>4</th>\n",
              "      <td>BREAKING Charlie Hebdo latest: 11 dead 10 woun...</td>\n",
              "      <td>552792544132997121</td>\n",
              "      <td>true</td>\n",
              "      <td>0</td>\n",
              "    </tr>\n",
              "    <tr>\n",
              "      <th>...</th>\n",
              "      <td>...</td>\n",
              "      <td>...</td>\n",
              "      <td>...</td>\n",
              "      <td>...</td>\n",
              "    </tr>\n",
              "    <tr>\n",
              "      <th>321</th>\n",
              "      <td>[Serious] Is it true that 85% of people can on...</td>\n",
              "      <td>8gp0d7</td>\n",
              "      <td>true</td>\n",
              "      <td>0</td>\n",
              "    </tr>\n",
              "    <tr>\n",
              "      <th>322</th>\n",
              "      <td>Did Eric Schneiderman Help NXIVM Sell Child Se...</td>\n",
              "      <td>8i274x</td>\n",
              "      <td>false</td>\n",
              "      <td>1</td>\n",
              "    </tr>\n",
              "    <tr>\n",
              "      <th>323</th>\n",
              "      <td>Debunk this: The direction you sleep matters</td>\n",
              "      <td>8n9173</td>\n",
              "      <td>false</td>\n",
              "      <td>1</td>\n",
              "    </tr>\n",
              "    <tr>\n",
              "      <th>324</th>\n",
              "      <td>Is it true police officers must hit a quota at...</td>\n",
              "      <td>8unvgg</td>\n",
              "      <td>false</td>\n",
              "      <td>1</td>\n",
              "    </tr>\n",
              "    <tr>\n",
              "      <th>325</th>\n",
              "      <td>Jon Sopel: Bizarre. $MENTION$ says he came to ...</td>\n",
              "      <td>8yktu5</td>\n",
              "      <td>false</td>\n",
              "      <td>1</td>\n",
              "    </tr>\n",
              "  </tbody>\n",
              "</table>\n",
              "<p>326 rows × 4 columns</p>\n",
              "</div>\n",
              "      <button class=\"colab-df-convert\" onclick=\"convertToInteractive('df-b1de5024-9bae-4d64-bedc-fa320ef5c75b')\"\n",
              "              title=\"Convert this dataframe to an interactive table.\"\n",
              "              style=\"display:none;\">\n",
              "        \n",
              "  <svg xmlns=\"http://www.w3.org/2000/svg\" height=\"24px\"viewBox=\"0 0 24 24\"\n",
              "       width=\"24px\">\n",
              "    <path d=\"M0 0h24v24H0V0z\" fill=\"none\"/>\n",
              "    <path d=\"M18.56 5.44l.94 2.06.94-2.06 2.06-.94-2.06-.94-.94-2.06-.94 2.06-2.06.94zm-11 1L8.5 8.5l.94-2.06 2.06-.94-2.06-.94L8.5 2.5l-.94 2.06-2.06.94zm10 10l.94 2.06.94-2.06 2.06-.94-2.06-.94-.94-2.06-.94 2.06-2.06.94z\"/><path d=\"M17.41 7.96l-1.37-1.37c-.4-.4-.92-.59-1.43-.59-.52 0-1.04.2-1.43.59L10.3 9.45l-7.72 7.72c-.78.78-.78 2.05 0 2.83L4 21.41c.39.39.9.59 1.41.59.51 0 1.02-.2 1.41-.59l7.78-7.78 2.81-2.81c.8-.78.8-2.07 0-2.86zM5.41 20L4 18.59l7.72-7.72 1.47 1.35L5.41 20z\"/>\n",
              "  </svg>\n",
              "      </button>\n",
              "      \n",
              "  <style>\n",
              "    .colab-df-container {\n",
              "      display:flex;\n",
              "      flex-wrap:wrap;\n",
              "      gap: 12px;\n",
              "    }\n",
              "\n",
              "    .colab-df-convert {\n",
              "      background-color: #E8F0FE;\n",
              "      border: none;\n",
              "      border-radius: 50%;\n",
              "      cursor: pointer;\n",
              "      display: none;\n",
              "      fill: #1967D2;\n",
              "      height: 32px;\n",
              "      padding: 0 0 0 0;\n",
              "      width: 32px;\n",
              "    }\n",
              "\n",
              "    .colab-df-convert:hover {\n",
              "      background-color: #E2EBFA;\n",
              "      box-shadow: 0px 1px 2px rgba(60, 64, 67, 0.3), 0px 1px 3px 1px rgba(60, 64, 67, 0.15);\n",
              "      fill: #174EA6;\n",
              "    }\n",
              "\n",
              "    [theme=dark] .colab-df-convert {\n",
              "      background-color: #3B4455;\n",
              "      fill: #D2E3FC;\n",
              "    }\n",
              "\n",
              "    [theme=dark] .colab-df-convert:hover {\n",
              "      background-color: #434B5C;\n",
              "      box-shadow: 0px 1px 3px 1px rgba(0, 0, 0, 0.15);\n",
              "      filter: drop-shadow(0px 1px 2px rgba(0, 0, 0, 0.3));\n",
              "      fill: #FFFFFF;\n",
              "    }\n",
              "  </style>\n",
              "\n",
              "      <script>\n",
              "        const buttonEl =\n",
              "          document.querySelector('#df-b1de5024-9bae-4d64-bedc-fa320ef5c75b button.colab-df-convert');\n",
              "        buttonEl.style.display =\n",
              "          google.colab.kernel.accessAllowed ? 'block' : 'none';\n",
              "\n",
              "        async function convertToInteractive(key) {\n",
              "          const element = document.querySelector('#df-b1de5024-9bae-4d64-bedc-fa320ef5c75b');\n",
              "          const dataTable =\n",
              "            await google.colab.kernel.invokeFunction('convertToInteractive',\n",
              "                                                     [key], {});\n",
              "          if (!dataTable) return;\n",
              "\n",
              "          const docLinkHtml = 'Like what you see? Visit the ' +\n",
              "            '<a target=\"_blank\" href=https://colab.research.google.com/notebooks/data_table.ipynb>data table notebook</a>'\n",
              "            + ' to learn more about interactive tables.';\n",
              "          element.innerHTML = '';\n",
              "          dataTable['output_type'] = 'display_data';\n",
              "          await google.colab.output.renderOutput(dataTable, element);\n",
              "          const docLink = document.createElement('div');\n",
              "          docLink.innerHTML = docLinkHtml;\n",
              "          element.appendChild(docLink);\n",
              "        }\n",
              "      </script>\n",
              "    </div>\n",
              "  </div>\n",
              "  "
            ]
          },
          "metadata": {},
          "execution_count": 6
        }
      ]
    },
    {
      "cell_type": "code",
      "source": [
        "trainDf['label'].isna().sum()"
      ],
      "metadata": {
        "colab": {
          "base_uri": "https://localhost:8080/"
        },
        "id": "V2RtJuHq52vv",
        "outputId": "0a74b7fd-b2a6-4c78-fbf2-b7eae772c670"
      },
      "execution_count": null,
      "outputs": [
        {
          "output_type": "execute_result",
          "data": {
            "text/plain": [
              "0"
            ]
          },
          "metadata": {},
          "execution_count": 7
        }
      ]
    },
    {
      "cell_type": "code",
      "source": [
        "devDf = pd.read_csv('/content/drive/MyDrive/NLP/csvfiles/taskb/testData.csv')\n",
        "devDf"
      ],
      "metadata": {
        "colab": {
          "base_uri": "https://localhost:8080/",
          "height": 424
        },
        "id": "_egrfUzI2gp5",
        "outputId": "ad7e0413-6523-4286-b39c-6d2b52311eb4"
      },
      "execution_count": null,
      "outputs": [
        {
          "output_type": "execute_result",
          "data": {
            "text/plain": [
              "                                                 text                  id  \\\n",
              "0   #Breaking: Pentagon releases video of the “mot...  852844529778601985   \n",
              "1   Rep. Sheila Jackson Lee has no shame. I still ...  443938194715713536   \n",
              "2   ICYMI: \"Rep Sheila Jackson Lee (D-Tx) Wants Hu...  774165935041093633   \n",
              "3   In 2003, Houston U.S. Rep. Sheila Jackson Lee ...  909084965035487232   \n",
              "4   Noah’s Ark Theme Park Destroyed in a Flood? $URL$  897502435593265152   \n",
              "..                                                ...                 ...   \n",
              "76  People who can't smell. Is it true that there ...              8m9y0o   \n",
              "77  Great Pyramid of Giza can focus electromagneti...              938o5h   \n",
              "78  Is it true that the federal government require...               ayn70   \n",
              "79        Is it true Romney has Caymen bank accounts?               wfajw   \n",
              "80  I've been searching, and can't find a single c...               xn2bn   \n",
              "\n",
              "    label  labelvalue  \n",
              "0   false           1  \n",
              "1    true           0  \n",
              "2    true           0  \n",
              "3    true           0  \n",
              "4   false           1  \n",
              "..    ...         ...  \n",
              "76   true           0  \n",
              "77   true           0  \n",
              "78  false           1  \n",
              "79   true           0  \n",
              "80  false           1  \n",
              "\n",
              "[81 rows x 4 columns]"
            ],
            "text/html": [
              "\n",
              "  <div id=\"df-7893d9a5-dbe7-4cb0-a0ef-830acc2523b6\">\n",
              "    <div class=\"colab-df-container\">\n",
              "      <div>\n",
              "<style scoped>\n",
              "    .dataframe tbody tr th:only-of-type {\n",
              "        vertical-align: middle;\n",
              "    }\n",
              "\n",
              "    .dataframe tbody tr th {\n",
              "        vertical-align: top;\n",
              "    }\n",
              "\n",
              "    .dataframe thead th {\n",
              "        text-align: right;\n",
              "    }\n",
              "</style>\n",
              "<table border=\"1\" class=\"dataframe\">\n",
              "  <thead>\n",
              "    <tr style=\"text-align: right;\">\n",
              "      <th></th>\n",
              "      <th>text</th>\n",
              "      <th>id</th>\n",
              "      <th>label</th>\n",
              "      <th>labelvalue</th>\n",
              "    </tr>\n",
              "  </thead>\n",
              "  <tbody>\n",
              "    <tr>\n",
              "      <th>0</th>\n",
              "      <td>#Breaking: Pentagon releases video of the “mot...</td>\n",
              "      <td>852844529778601985</td>\n",
              "      <td>false</td>\n",
              "      <td>1</td>\n",
              "    </tr>\n",
              "    <tr>\n",
              "      <th>1</th>\n",
              "      <td>Rep. Sheila Jackson Lee has no shame. I still ...</td>\n",
              "      <td>443938194715713536</td>\n",
              "      <td>true</td>\n",
              "      <td>0</td>\n",
              "    </tr>\n",
              "    <tr>\n",
              "      <th>2</th>\n",
              "      <td>ICYMI: \"Rep Sheila Jackson Lee (D-Tx) Wants Hu...</td>\n",
              "      <td>774165935041093633</td>\n",
              "      <td>true</td>\n",
              "      <td>0</td>\n",
              "    </tr>\n",
              "    <tr>\n",
              "      <th>3</th>\n",
              "      <td>In 2003, Houston U.S. Rep. Sheila Jackson Lee ...</td>\n",
              "      <td>909084965035487232</td>\n",
              "      <td>true</td>\n",
              "      <td>0</td>\n",
              "    </tr>\n",
              "    <tr>\n",
              "      <th>4</th>\n",
              "      <td>Noah’s Ark Theme Park Destroyed in a Flood? $URL$</td>\n",
              "      <td>897502435593265152</td>\n",
              "      <td>false</td>\n",
              "      <td>1</td>\n",
              "    </tr>\n",
              "    <tr>\n",
              "      <th>...</th>\n",
              "      <td>...</td>\n",
              "      <td>...</td>\n",
              "      <td>...</td>\n",
              "      <td>...</td>\n",
              "    </tr>\n",
              "    <tr>\n",
              "      <th>76</th>\n",
              "      <td>People who can't smell. Is it true that there ...</td>\n",
              "      <td>8m9y0o</td>\n",
              "      <td>true</td>\n",
              "      <td>0</td>\n",
              "    </tr>\n",
              "    <tr>\n",
              "      <th>77</th>\n",
              "      <td>Great Pyramid of Giza can focus electromagneti...</td>\n",
              "      <td>938o5h</td>\n",
              "      <td>true</td>\n",
              "      <td>0</td>\n",
              "    </tr>\n",
              "    <tr>\n",
              "      <th>78</th>\n",
              "      <td>Is it true that the federal government require...</td>\n",
              "      <td>ayn70</td>\n",
              "      <td>false</td>\n",
              "      <td>1</td>\n",
              "    </tr>\n",
              "    <tr>\n",
              "      <th>79</th>\n",
              "      <td>Is it true Romney has Caymen bank accounts?</td>\n",
              "      <td>wfajw</td>\n",
              "      <td>true</td>\n",
              "      <td>0</td>\n",
              "    </tr>\n",
              "    <tr>\n",
              "      <th>80</th>\n",
              "      <td>I've been searching, and can't find a single c...</td>\n",
              "      <td>xn2bn</td>\n",
              "      <td>false</td>\n",
              "      <td>1</td>\n",
              "    </tr>\n",
              "  </tbody>\n",
              "</table>\n",
              "<p>81 rows × 4 columns</p>\n",
              "</div>\n",
              "      <button class=\"colab-df-convert\" onclick=\"convertToInteractive('df-7893d9a5-dbe7-4cb0-a0ef-830acc2523b6')\"\n",
              "              title=\"Convert this dataframe to an interactive table.\"\n",
              "              style=\"display:none;\">\n",
              "        \n",
              "  <svg xmlns=\"http://www.w3.org/2000/svg\" height=\"24px\"viewBox=\"0 0 24 24\"\n",
              "       width=\"24px\">\n",
              "    <path d=\"M0 0h24v24H0V0z\" fill=\"none\"/>\n",
              "    <path d=\"M18.56 5.44l.94 2.06.94-2.06 2.06-.94-2.06-.94-.94-2.06-.94 2.06-2.06.94zm-11 1L8.5 8.5l.94-2.06 2.06-.94-2.06-.94L8.5 2.5l-.94 2.06-2.06.94zm10 10l.94 2.06.94-2.06 2.06-.94-2.06-.94-.94-2.06-.94 2.06-2.06.94z\"/><path d=\"M17.41 7.96l-1.37-1.37c-.4-.4-.92-.59-1.43-.59-.52 0-1.04.2-1.43.59L10.3 9.45l-7.72 7.72c-.78.78-.78 2.05 0 2.83L4 21.41c.39.39.9.59 1.41.59.51 0 1.02-.2 1.41-.59l7.78-7.78 2.81-2.81c.8-.78.8-2.07 0-2.86zM5.41 20L4 18.59l7.72-7.72 1.47 1.35L5.41 20z\"/>\n",
              "  </svg>\n",
              "      </button>\n",
              "      \n",
              "  <style>\n",
              "    .colab-df-container {\n",
              "      display:flex;\n",
              "      flex-wrap:wrap;\n",
              "      gap: 12px;\n",
              "    }\n",
              "\n",
              "    .colab-df-convert {\n",
              "      background-color: #E8F0FE;\n",
              "      border: none;\n",
              "      border-radius: 50%;\n",
              "      cursor: pointer;\n",
              "      display: none;\n",
              "      fill: #1967D2;\n",
              "      height: 32px;\n",
              "      padding: 0 0 0 0;\n",
              "      width: 32px;\n",
              "    }\n",
              "\n",
              "    .colab-df-convert:hover {\n",
              "      background-color: #E2EBFA;\n",
              "      box-shadow: 0px 1px 2px rgba(60, 64, 67, 0.3), 0px 1px 3px 1px rgba(60, 64, 67, 0.15);\n",
              "      fill: #174EA6;\n",
              "    }\n",
              "\n",
              "    [theme=dark] .colab-df-convert {\n",
              "      background-color: #3B4455;\n",
              "      fill: #D2E3FC;\n",
              "    }\n",
              "\n",
              "    [theme=dark] .colab-df-convert:hover {\n",
              "      background-color: #434B5C;\n",
              "      box-shadow: 0px 1px 3px 1px rgba(0, 0, 0, 0.15);\n",
              "      filter: drop-shadow(0px 1px 2px rgba(0, 0, 0, 0.3));\n",
              "      fill: #FFFFFF;\n",
              "    }\n",
              "  </style>\n",
              "\n",
              "      <script>\n",
              "        const buttonEl =\n",
              "          document.querySelector('#df-7893d9a5-dbe7-4cb0-a0ef-830acc2523b6 button.colab-df-convert');\n",
              "        buttonEl.style.display =\n",
              "          google.colab.kernel.accessAllowed ? 'block' : 'none';\n",
              "\n",
              "        async function convertToInteractive(key) {\n",
              "          const element = document.querySelector('#df-7893d9a5-dbe7-4cb0-a0ef-830acc2523b6');\n",
              "          const dataTable =\n",
              "            await google.colab.kernel.invokeFunction('convertToInteractive',\n",
              "                                                     [key], {});\n",
              "          if (!dataTable) return;\n",
              "\n",
              "          const docLinkHtml = 'Like what you see? Visit the ' +\n",
              "            '<a target=\"_blank\" href=https://colab.research.google.com/notebooks/data_table.ipynb>data table notebook</a>'\n",
              "            + ' to learn more about interactive tables.';\n",
              "          element.innerHTML = '';\n",
              "          dataTable['output_type'] = 'display_data';\n",
              "          await google.colab.output.renderOutput(dataTable, element);\n",
              "          const docLink = document.createElement('div');\n",
              "          docLink.innerHTML = docLinkHtml;\n",
              "          element.appendChild(docLink);\n",
              "        }\n",
              "      </script>\n",
              "    </div>\n",
              "  </div>\n",
              "  "
            ]
          },
          "metadata": {},
          "execution_count": 8
        }
      ]
    },
    {
      "cell_type": "code",
      "source": [
        "class StanceDataset(data.Dataset):\n",
        "\n",
        "  def __init__(self, firstSeq, TextSrcInre, labelValue,  tokenizer, max_len):\n",
        "    self.firstSeq    = firstSeq         \n",
        "    self.labelValue  = labelValue   \n",
        "    self.tokenizer   = tokenizer     \n",
        "    self.max_len     = max_len       \n",
        "\n",
        "  def __len__(self):\n",
        "    return len(self.labelValue)\n",
        "\n",
        "  def __getitem__(self, item):\n",
        "    firstSeq    = str(self.firstSeq[item])\n",
        "\n",
        "    \n",
        "    encoding = tokenizer.encode_plus(\n",
        "        firstSeq,\n",
        "        max_length = self.max_len,\n",
        "        add_special_tokens= True,\n",
        "        truncation = True,\n",
        "        pad_to_max_length = True,\n",
        "        return_attention_mask = True,\n",
        "        return_tensors = 'pt'\n",
        "    )\n",
        "\n",
        "    return {\n",
        "        'firstSeq' : firstSeq,\n",
        "        'input_ids': encoding['input_ids'].flatten(),\n",
        "        'attention_mask': encoding['attention_mask'].flatten(),\n",
        "        'labelValue'  : torch.tensor(self.labelValue[item], dtype=torch.long)\n",
        "    }"
      ],
      "metadata": {
        "id": "9igYNMML248G"
      },
      "execution_count": null,
      "outputs": []
    },
    {
      "cell_type": "code",
      "source": [
        "\n",
        "def createDataLoader(dataframe, tokenizer, max_len, batch_size):\n",
        "  ds = StanceDataset(\n",
        "      firstSeq    = dataframe.text.to_numpy(),\n",
        "      labelValue  = dataframe.labelvalue.to_numpy(),\n",
        "      tokenizer   = tokenizer,\n",
        "      max_len     = max_len\n",
        "  )\n",
        "\n",
        "  return data.DataLoader(\n",
        "      ds,\n",
        "      batch_size  = batch_size,\n",
        "      shuffle     = True,\n",
        "      num_workers = 3\n",
        "  )\n"
      ],
      "metadata": {
        "id": "Ca4VeRNn2_AL"
      },
      "execution_count": null,
      "outputs": []
    },
    {
      "cell_type": "code",
      "source": [
        "\n",
        "trainDataLoader        = createDataLoader(trainDf, tokenizer, MAX_LENGTH, BATCH_SIZE)\n",
        "\n",
        "developmentDataLoader  = createDataLoader(devDf, tokenizer, MAX_LENGTH, BATCH_SIZE)\n"
      ],
      "metadata": {
        "id": "gWYHaU-j3oOa"
      },
      "execution_count": null,
      "outputs": []
    },
    {
      "cell_type": "code",
      "source": [
        "class StanceClassifier(nn.Module):\n",
        "\n",
        "  def __init__(self,  n_classes):\n",
        "    super(StanceClassifier, self).__init__()\n",
        "    self.robertaModel              = RobertaModel.from_pretrained('roberta-large')    \n",
        "                                    \n",
        "\n",
        "    self.drop                      = nn.Dropout(p = 0.3)\n",
        "\n",
        "    self.output                    = nn.Linear(self.robertaModel.config.hidden_size, n_classes)\n",
        "    \n",
        "    self.softmax                   = nn.Softmax(dim = 1)\n",
        "\n",
        "  def forward(self, input_ids, attention_mask):\n",
        "    \n",
        "    roberta_output     = self.robertaModel(\n",
        "        input_ids      = input_ids,               \n",
        "        attention_mask = attention_mask )        \n",
        "\n",
        "        pooled_output = roberta_output[1]          \n",
        "        output        = self.drop(pooled_output)\n",
        "        output        = self.output(output)\n",
        "    \n",
        "    return self.softmax(output)"
      ],
      "metadata": {
        "id": "YujcEZK_6XQn"
      },
      "execution_count": null,
      "outputs": []
    },
    {
      "cell_type": "code",
      "source": [
        "model = StanceClassifier(len(CLASS_NAMES))\n",
        "model = model.to(device)"
      ],
      "metadata": {
        "colab": {
          "base_uri": "https://localhost:8080/"
        },
        "id": "84_dEzr2DfrA",
        "outputId": "36a34fbf-a68a-4a21-d285-c5b511da4ef7"
      },
      "execution_count": null,
      "outputs": [
        {
          "output_type": "stream",
          "name": "stderr",
          "text": [
            "Some weights of the model checkpoint at roberta-large were not used when initializing RobertaModel: ['lm_head.decoder.weight', 'lm_head.layer_norm.weight', 'lm_head.dense.bias', 'lm_head.dense.weight', 'lm_head.layer_norm.bias', 'lm_head.bias']\n",
            "- This IS expected if you are initializing RobertaModel from the checkpoint of a model trained on another task or with another architecture (e.g. initializing a BertForSequenceClassification model from a BertForPreTraining model).\n",
            "- This IS NOT expected if you are initializing RobertaModel from the checkpoint of a model that you expect to be exactly identical (initializing a BertForSequenceClassification model from a BertForSequenceClassification model).\n"
          ]
        }
      ]
    },
    {
      "cell_type": "code",
      "source": [
        "optimizer = AdamW(model.parameters(), \n",
        "                  lr = 2e-6, \n",
        "                  correct_bias= False)\n",
        "\n",
        "totalSteps = len(trainDataLoader) * EPOCHS\n",
        "\n",
        "scheduler = get_linear_schedule_with_warmup(\n",
        "            optimizer,\n",
        "            num_warmup_steps=0,\n",
        "            num_training_steps = totalSteps\n",
        ")\n",
        "\n",
        "\n",
        "\n",
        "weights      = [0.75, 1.37, 1.04]\n",
        "classWeights = torch.FloatTensor(weights)\n",
        "lossFunction = nn.CrossEntropyLoss(weight = classWeights).to(device)"
      ],
      "metadata": {
        "id": "_9197WLLDjR0"
      },
      "execution_count": null,
      "outputs": []
    },
    {
      "cell_type": "code",
      "source": [
        "def train_epoch(\n",
        "  model,\n",
        "  dataLoader,\n",
        "  lossFunction,\n",
        "  optimizer,\n",
        "  device,\n",
        "  scheduler,\n",
        "  n_examples\n",
        "):\n",
        "\n",
        "  model = model.train()\n",
        "  losses = []\n",
        "  correctPredictions = 0\n",
        "\n",
        "  for d in dataLoader:\n",
        "    \n",
        "    input_ids              = d[\"input_ids\"].to(device)                          \n",
        "    attention_mask         = d[\"attention_mask\"].to(device)                     \n",
        "    labelValues            = d[\"labelValue\"].to(device)                          \n",
        "\n",
        "    outputs = model(\n",
        "      input_ids             = input_ids,\n",
        "      attention_mask        = attention_mask,\n",
        "    )\n",
        "\n",
        "    _, predictionIndices = torch.max(outputs, dim=1)\n",
        "    loss = lossFunction(outputs, labelValues)\n",
        "  \n",
        "    correctPredictions += torch.sum(predictionIndices == labelValues)\n",
        "    losses.append(loss.item())\n",
        "    loss.backward()\n",
        "    nn.utils.clip_grad_norm_(model.parameters(), max_norm=1.0)\n",
        "    optimizer.step()\n",
        "    scheduler.step()\n",
        "    optimizer.zero_grad()\n",
        "\n",
        "  return np.mean(losses), correctPredictions.double() / n_examples"
      ],
      "metadata": {
        "id": "n0fe23m8Dnrc"
      },
      "execution_count": null,
      "outputs": []
    },
    {
      "cell_type": "code",
      "source": [
        "def eval_model(\n",
        "    model, \n",
        "    dataLoader, \n",
        "    lossFunction,\n",
        "    device,\n",
        "    n_examples\n",
        "    ):\n",
        "  \n",
        "  model = model.eval()\n",
        "  losses = []\n",
        "  correctPredictions = 0\n",
        "\n",
        "  with torch.no_grad():\n",
        "    for d in dataLoader:\n",
        "\n",
        "      attention_mask         = d[\"attention_mask\"].to(device)                     \n",
        "      labelValues            = d[\"labelValue\"].to(device)                         \n",
        "\n",
        "\n",
        "      outputs = model(\n",
        "        input_ids             = input_ids,\n",
        "        attention_mask        = attention_mask,\n",
        "  \n",
        "       \n",
        "      )\n",
        "\n",
        "      _, predictionIndices = torch.max(outputs, dim=1)\n",
        "      loss = lossFunction(outputs, labelValues)\n",
        "\n",
        "      correctPredictions += torch.sum(predictionIndices == labelValues)\n",
        "      losses.append(loss.item())\n",
        "\n",
        "  return np.mean(losses), correctPredictions.double() / n_examples"
      ],
      "metadata": {
        "id": "621OfAGUDrB0"
      },
      "execution_count": null,
      "outputs": []
    },
    {
      "cell_type": "code",
      "source": [
        "for epoch in range(EPOCHS):\n",
        "  print(f'Epoch {epoch + 1}')\n",
        "  trainLoss, trainAccuracy = train_epoch(\n",
        "    model,\n",
        "    trainDataLoader,\n",
        "    lossFunction,\n",
        "    optimizer,\n",
        "    device,\n",
        "    scheduler,\n",
        "    len(trainDf)\n",
        "  )\n",
        "  \n",
        "  print(f'Training loss {trainLoss} Training accuracy {trainAccuracy}')\n",
        "\n",
        "  devLoss, devAccuracy = eval_model(\n",
        "    model,\n",
        "    developmentDataLoader,\n",
        "    lossFunction,\n",
        "    device,\n",
        "    len(devDf)\n",
        "  )\n",
        "\n",
        "  print(f'Development loss {devLoss} Development accuracy {devAccuracy}')\n",
        "  print()\n",
        "  \n",
        "  print()"
      ],
      "metadata": {
        "colab": {
          "base_uri": "https://localhost:8080/"
        },
        "id": "mT9QY59zDt-m",
        "outputId": "608eae7e-422c-4734-8962-ed6647b0c76c"
      },
      "execution_count": null,
      "outputs": [
        {
          "output_type": "stream",
          "name": "stdout",
          "text": [
            "Epoch 1\n",
            "Training loss 1.1061964772996449 Training accuracy 0.2668711656441718\n",
            "Development loss 1.0991637706756592 Development accuracy 0.49382716049382713\n",
            "\n",
            "\n",
            "Epoch 2\n",
            "Training loss 1.0985755977176486 Training accuracy 0.2852760736196319\n",
            "Development loss 1.0803916255633037 Development accuracy 0.4567901234567901\n",
            "\n",
            "\n",
            "Epoch 3\n",
            "Training loss 1.0705555166516985 Training accuracy 0.4447852760736196\n",
            "Development loss 1.0949122508366902 Development accuracy 0.37037037037037035\n",
            "\n",
            "\n",
            "Epoch 4\n",
            "Training loss 1.0404798956144423 Training accuracy 0.5521472392638037\n",
            "Development loss 1.1730943123499553 Development accuracy 0.25925925925925924\n",
            "\n",
            "\n",
            "Epoch 5\n",
            "Training loss 0.9907456636428833 Training accuracy 0.6503067484662577\n",
            "Development loss 1.111816147963206 Development accuracy 0.37037037037037035\n",
            "\n",
            "\n",
            "Epoch 6\n",
            "Training loss 0.9860430331457228 Training accuracy 0.647239263803681\n",
            "Development loss 1.0752997001012166 Development accuracy 0.4074074074074074\n",
            "\n",
            "\n"
          ]
        }
      ]
    },
    {
      "cell_type": "code",
      "source": [
        "def get_predictions(model, data_loader):\n",
        "\n",
        "  model = model.eval()\n",
        "  review_texta = []\n",
        "  review_textb = []\n",
        "  predictions = []\n",
        "  prediction_probs = []\n",
        "  real_values = []\n",
        "\n",
        "  with torch.no_grad():\n",
        "    for d in data_loader:\n",
        "\n",
        "      textas                 = d[\"firstSeq\"]\n",
        "      input_ids              = d[\"input_ids\"].to(device)\n",
        "      attention_mask         = d[\"attention_mask\"].to(device)\n",
        "      labels                 = d[\"labelValue\"].to(device)\n",
        "    \n",
        "      outputs = model(\n",
        "        input_ids             = input_ids,\n",
        "        attention_mask        = attention_mask,\n",
        "       \n",
        "      )\n",
        "\n",
        "      _, preds = torch.max(outputs, dim=1)    \n",
        "\n",
        "      review_texta.extend(textas)\n",
        "      predictions.extend(preds)\n",
        "      prediction_probs.extend(outputs)\n",
        "      real_values.extend(labels)\n",
        "\n",
        "  predictions = torch.stack(predictions).cpu()\n",
        "  prediction_probs = torch.stack(prediction_probs).cpu()\n",
        "  real_values = torch.stack(real_values).cpu()\n",
        "  \n",
        "  return review_texta, predictions, prediction_probs, real_values"
      ],
      "metadata": {
        "id": "WSB-HvVNDwdb"
      },
      "execution_count": null,
      "outputs": []
    },
    {
      "cell_type": "code",
      "source": [
        "firstSeq_dev, yHat_dev, predProbs_dev, yTest_dev = get_predictions(\n",
        "  model,\n",
        "  developmentDataLoader\n",
        ")"
      ],
      "metadata": {
        "id": "IjGxOlQL99Ji"
      },
      "execution_count": null,
      "outputs": []
    },
    {
      "cell_type": "code",
      "source": [
        "print(classification_report(yTest_dev, yHat_dev, target_names= CLASS_NAMES))"
      ],
      "metadata": {
        "colab": {
          "base_uri": "https://localhost:8080/"
        },
        "id": "2kEKscGB-AL4",
        "outputId": "9f4872e7-4f0c-4e26-806e-5f963952faff"
      },
      "execution_count": null,
      "outputs": [
        {
          "output_type": "stream",
          "name": "stdout",
          "text": [
            "              precision    recall  f1-score   support\n",
            "\n",
            "        true       0.33      0.13      0.19        31\n",
            "       false       0.47      0.70      0.56        40\n",
            "  unverified       0.11      0.10      0.11        10\n",
            "\n",
            "    accuracy                           0.41        81\n",
            "   macro avg       0.30      0.31      0.28        81\n",
            "weighted avg       0.37      0.41      0.36        81\n",
            "\n"
          ]
        }
      ]
    },
    {
      "cell_type": "code",
      "source": [
        "predProbs_dev"
      ],
      "metadata": {
        "colab": {
          "base_uri": "https://localhost:8080/"
        },
        "id": "55ZBLcp66soO",
        "outputId": "56ebaa91-6a97-4304-d87e-5b1fca688468"
      },
      "execution_count": null,
      "outputs": [
        {
          "output_type": "execute_result",
          "data": {
            "text/plain": [
              "tensor([[0.2714, 0.4338, 0.2949],\n",
              "        [0.2311, 0.4465, 0.3223],\n",
              "        [0.2498, 0.4104, 0.3398],\n",
              "        [0.2506, 0.4131, 0.3362],\n",
              "        [0.2543, 0.4173, 0.3284],\n",
              "        [0.2931, 0.4127, 0.2942],\n",
              "        [0.2445, 0.4119, 0.3435],\n",
              "        [0.3531, 0.3649, 0.2820],\n",
              "        [0.2674, 0.3922, 0.3405],\n",
              "        [0.2459, 0.4375, 0.3166],\n",
              "        [0.3117, 0.3904, 0.2979],\n",
              "        [0.2986, 0.3968, 0.3046],\n",
              "        [0.2382, 0.3579, 0.4039],\n",
              "        [0.2578, 0.4053, 0.3369],\n",
              "        [0.2378, 0.2610, 0.5013],\n",
              "        [0.4193, 0.3930, 0.1877],\n",
              "        [0.3227, 0.3932, 0.2841],\n",
              "        [0.3184, 0.3635, 0.3181],\n",
              "        [0.2333, 0.4376, 0.3290],\n",
              "        [0.2547, 0.4580, 0.2873],\n",
              "        [0.3527, 0.3686, 0.2787],\n",
              "        [0.4835, 0.3148, 0.2017],\n",
              "        [0.2740, 0.4182, 0.3078],\n",
              "        [0.4946, 0.2743, 0.2311],\n",
              "        [0.4389, 0.3293, 0.2318],\n",
              "        [0.3278, 0.3581, 0.3141],\n",
              "        [0.2357, 0.4562, 0.3081],\n",
              "        [0.2565, 0.4385, 0.3050],\n",
              "        [0.2595, 0.3919, 0.3486],\n",
              "        [0.2400, 0.4301, 0.3299],\n",
              "        [0.3182, 0.3627, 0.3191],\n",
              "        [0.3118, 0.3782, 0.3100],\n",
              "        [0.2335, 0.4406, 0.3260],\n",
              "        [0.3483, 0.3997, 0.2520],\n",
              "        [0.2516, 0.4178, 0.3307],\n",
              "        [0.3213, 0.3494, 0.3292],\n",
              "        [0.3154, 0.3883, 0.2963],\n",
              "        [0.2447, 0.3705, 0.3848],\n",
              "        [0.2954, 0.3652, 0.3394],\n",
              "        [0.2593, 0.4319, 0.3088],\n",
              "        [0.2171, 0.3950, 0.3879],\n",
              "        [0.4600, 0.2376, 0.3025],\n",
              "        [0.2820, 0.4294, 0.2887],\n",
              "        [0.3383, 0.3999, 0.2618],\n",
              "        [0.3194, 0.3035, 0.3771],\n",
              "        [0.2661, 0.4223, 0.3116],\n",
              "        [0.3344, 0.3852, 0.2804],\n",
              "        [0.3326, 0.4052, 0.2622],\n",
              "        [0.2295, 0.3952, 0.3753],\n",
              "        [0.2360, 0.4042, 0.3598],\n",
              "        [0.4974, 0.2955, 0.2070],\n",
              "        [0.2677, 0.3650, 0.3673],\n",
              "        [0.3983, 0.2869, 0.3148],\n",
              "        [0.3600, 0.3328, 0.3072],\n",
              "        [0.3832, 0.3823, 0.2345],\n",
              "        [0.3331, 0.4238, 0.2431],\n",
              "        [0.2831, 0.3949, 0.3220],\n",
              "        [0.2264, 0.4282, 0.3454],\n",
              "        [0.2580, 0.4130, 0.3290],\n",
              "        [0.2568, 0.4595, 0.2837],\n",
              "        [0.2658, 0.3727, 0.3615],\n",
              "        [0.2507, 0.4493, 0.3000],\n",
              "        [0.2174, 0.3090, 0.4736],\n",
              "        [0.2643, 0.3952, 0.3405],\n",
              "        [0.3495, 0.3706, 0.2799],\n",
              "        [0.3191, 0.4208, 0.2601],\n",
              "        [0.2495, 0.4282, 0.3223],\n",
              "        [0.2378, 0.2610, 0.5013],\n",
              "        [0.3615, 0.3908, 0.2477],\n",
              "        [0.2583, 0.3989, 0.3427],\n",
              "        [0.2593, 0.4319, 0.3088],\n",
              "        [0.3016, 0.4189, 0.2795],\n",
              "        [0.3159, 0.3409, 0.3432],\n",
              "        [0.2271, 0.4265, 0.3464],\n",
              "        [0.2811, 0.4240, 0.2950],\n",
              "        [0.3653, 0.3893, 0.2454],\n",
              "        [0.4147, 0.3196, 0.2658],\n",
              "        [0.3328, 0.2721, 0.3952],\n",
              "        [0.4112, 0.3790, 0.2098],\n",
              "        [0.3935, 0.3100, 0.2966],\n",
              "        [0.2539, 0.4046, 0.3415]])"
            ]
          },
          "metadata": {},
          "execution_count": 22
        }
      ]
    },
    {
      "cell_type": "code",
      "source": [
        "yTest_dev"
      ],
      "metadata": {
        "colab": {
          "base_uri": "https://localhost:8080/"
        },
        "id": "MxEUryTW8NYG",
        "outputId": "df60d47d-c8fa-4535-a7e9-a0a0b0710c4a"
      },
      "execution_count": null,
      "outputs": [
        {
          "output_type": "execute_result",
          "data": {
            "text/plain": [
              "tensor([0, 1, 0, 0, 2, 1, 0, 1, 1, 0, 1, 0, 2, 1, 1, 0, 0, 0, 0, 1, 1, 2, 2, 0,\n",
              "        1, 0, 2, 1, 1, 0, 1, 0, 1, 1, 0, 0, 1, 1, 0, 1, 1, 1, 2, 1, 1, 1, 1, 1,\n",
              "        0, 0, 2, 1, 1, 1, 1, 1, 0, 0, 1, 0, 0, 0, 0, 1, 0, 1, 0, 1, 2, 0, 1, 1,\n",
              "        1, 2, 1, 1, 0, 0, 1, 0, 2])"
            ]
          },
          "metadata": {},
          "execution_count": 23
        }
      ]
    },
    {
      "cell_type": "code",
      "source": [
        "yHat_dev"
      ],
      "metadata": {
        "colab": {
          "base_uri": "https://localhost:8080/"
        },
        "id": "NYurUqxo8vgB",
        "outputId": "21e8844a-236d-4ef5-ad04-53cefb4073c7"
      },
      "execution_count": null,
      "outputs": [
        {
          "output_type": "execute_result",
          "data": {
            "text/plain": [
              "tensor([1, 1, 1, 1, 1, 1, 1, 1, 1, 1, 1, 1, 2, 1, 2, 0, 1, 1, 1, 1, 1, 0, 1, 0,\n",
              "        0, 1, 1, 1, 1, 1, 1, 1, 1, 1, 1, 1, 1, 2, 1, 1, 1, 0, 1, 1, 2, 1, 1, 1,\n",
              "        1, 1, 0, 2, 0, 0, 0, 1, 1, 1, 1, 1, 1, 1, 2, 1, 1, 1, 1, 2, 1, 1, 1, 1,\n",
              "        2, 1, 1, 1, 0, 2, 0, 0, 1])"
            ]
          },
          "metadata": {},
          "execution_count": 24
        }
      ]
    },
    {
      "cell_type": "code",
      "source": [
        "cscoreMLP = []\n",
        "for i in range(len(yHat_dev)):\n",
        "    cscoreMLP.append(predProbs_dev[i][yHat_dev[i]])"
      ],
      "metadata": {
        "id": "mTDb__1q8xIn"
      },
      "execution_count": null,
      "outputs": []
    },
    {
      "cell_type": "code",
      "source": [
        "cscoreMLP"
      ],
      "metadata": {
        "colab": {
          "base_uri": "https://localhost:8080/"
        },
        "id": "w4zv6-sX98i2",
        "outputId": "092f2b9b-b582-4322-cbea-f5724e3e0fe0"
      },
      "execution_count": null,
      "outputs": [
        {
          "output_type": "execute_result",
          "data": {
            "text/plain": [
              "[tensor(0.4338),\n",
              " tensor(0.4465),\n",
              " tensor(0.4104),\n",
              " tensor(0.4131),\n",
              " tensor(0.4173),\n",
              " tensor(0.4127),\n",
              " tensor(0.4119),\n",
              " tensor(0.3649),\n",
              " tensor(0.3922),\n",
              " tensor(0.4375),\n",
              " tensor(0.3904),\n",
              " tensor(0.3968),\n",
              " tensor(0.4039),\n",
              " tensor(0.4053),\n",
              " tensor(0.5013),\n",
              " tensor(0.4193),\n",
              " tensor(0.3932),\n",
              " tensor(0.3635),\n",
              " tensor(0.4376),\n",
              " tensor(0.4580),\n",
              " tensor(0.3686),\n",
              " tensor(0.4835),\n",
              " tensor(0.4182),\n",
              " tensor(0.4946),\n",
              " tensor(0.4389),\n",
              " tensor(0.3581),\n",
              " tensor(0.4562),\n",
              " tensor(0.4385),\n",
              " tensor(0.3919),\n",
              " tensor(0.4301),\n",
              " tensor(0.3627),\n",
              " tensor(0.3782),\n",
              " tensor(0.4406),\n",
              " tensor(0.3997),\n",
              " tensor(0.4178),\n",
              " tensor(0.3494),\n",
              " tensor(0.3883),\n",
              " tensor(0.3848),\n",
              " tensor(0.3652),\n",
              " tensor(0.4319),\n",
              " tensor(0.3950),\n",
              " tensor(0.4600),\n",
              " tensor(0.4294),\n",
              " tensor(0.3999),\n",
              " tensor(0.3771),\n",
              " tensor(0.4223),\n",
              " tensor(0.3852),\n",
              " tensor(0.4052),\n",
              " tensor(0.3952),\n",
              " tensor(0.4042),\n",
              " tensor(0.4974),\n",
              " tensor(0.3673),\n",
              " tensor(0.3983),\n",
              " tensor(0.3600),\n",
              " tensor(0.3832),\n",
              " tensor(0.4238),\n",
              " tensor(0.3949),\n",
              " tensor(0.4282),\n",
              " tensor(0.4130),\n",
              " tensor(0.4595),\n",
              " tensor(0.3727),\n",
              " tensor(0.4493),\n",
              " tensor(0.4736),\n",
              " tensor(0.3952),\n",
              " tensor(0.3706),\n",
              " tensor(0.4208),\n",
              " tensor(0.4282),\n",
              " tensor(0.5013),\n",
              " tensor(0.3908),\n",
              " tensor(0.3989),\n",
              " tensor(0.4319),\n",
              " tensor(0.4189),\n",
              " tensor(0.3432),\n",
              " tensor(0.4265),\n",
              " tensor(0.4240),\n",
              " tensor(0.3893),\n",
              " tensor(0.4147),\n",
              " tensor(0.3952),\n",
              " tensor(0.4112),\n",
              " tensor(0.3935),\n",
              " tensor(0.4046)]"
            ]
          },
          "metadata": {},
          "execution_count": 26
        }
      ]
    },
    {
      "cell_type": "code",
      "source": [
        "oneList = [1]*len(cscoreMLP)"
      ],
      "metadata": {
        "id": "0fKkdoge9-H-"
      },
      "execution_count": null,
      "outputs": []
    },
    {
      "cell_type": "code",
      "source": [
        "from sklearn.metrics import mean_squared_error\n",
        "\n",
        "rms = mean_squared_error(oneList,cscoreMLP, squared=False)"
      ],
      "metadata": {
        "id": "SzNUZGR6-DAq"
      },
      "execution_count": null,
      "outputs": []
    },
    {
      "cell_type": "code",
      "source": [
        "rms"
      ],
      "metadata": {
        "colab": {
          "base_uri": "https://localhost:8080/"
        },
        "id": "iW_U3KN--G3u",
        "outputId": "ba5e515b-0ac1-4999-bc64-81582b970aae"
      },
      "execution_count": null,
      "outputs": [
        {
          "output_type": "execute_result",
          "data": {
            "text/plain": [
              "0.5891768079836841"
            ]
          },
          "metadata": {},
          "execution_count": 29
        }
      ]
    },
    {
      "cell_type": "code",
      "source": [
        ""
      ],
      "metadata": {
        "id": "AVD69qgi-I8b"
      },
      "execution_count": null,
      "outputs": []
    }
  ]
}