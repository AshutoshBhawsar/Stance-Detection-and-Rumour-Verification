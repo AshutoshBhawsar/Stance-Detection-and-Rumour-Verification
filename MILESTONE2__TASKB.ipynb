{
  "nbformat": 4,
  "nbformat_minor": 0,
  "metadata": {
    "colab": {
      "name": "MILESTONE2_ TASKB_FINAL.ipynb",
      "provenance": []
    },
    "kernelspec": {
      "name": "python3",
      "display_name": "Python 3"
    },
    "language_info": {
      "name": "python"
    }
  },
  "cells": [
    {
      "cell_type": "code",
      "execution_count": null,
      "metadata": {
        "id": "NrOC3KHaB_nm"
      },
      "outputs": [],
      "source": [
        "import pandas as pd\n",
        "import json\n",
        "import numpy  as np\n",
        "import os\n",
        "import re\n",
        "import copy\n",
        "from sklearn.metrics                  import classification_report\n",
        "from sklearn.feature_extraction.text  import TfidfVectorizer\n",
        "from sklearn import model_selection, naive_bayes, svm\n",
        "from sklearn.metrics import accuracy_score"
      ]
    },
    {
      "cell_type": "code",
      "source": [
        "train = pd.read_csv('/content/drive/MyDrive/NLP/csvfiles/taskb/trainingData.csv')"
      ],
      "metadata": {
        "id": "bwoyBs9IUt4h"
      },
      "execution_count": null,
      "outputs": []
    },
    {
      "cell_type": "code",
      "source": [
        "train"
      ],
      "metadata": {
        "colab": {
          "base_uri": "https://localhost:8080/",
          "height": 424
        },
        "id": "cgKEJM4jU0Wv",
        "outputId": "1bb21dab-4952-4c3d-c1ec-793c05d18965"
      },
      "execution_count": null,
      "outputs": [
        {
          "output_type": "execute_result",
          "data": {
            "text/plain": [
              "                                                  text                  id  \\\n",
              "0    France: 10 people dead after shooting at HQ of...  552783667052167168   \n",
              "1    BREAKING: 10 reportedly shot dead at Paris HQ ...  552785375161499649   \n",
              "2    BREAKING: At least 10 killed in shooting at Fr...  552791196247269378   \n",
              "3    Eleven dead in shooting at Paris offices of sa...  552791578893619200   \n",
              "4    BREAKING Charlie Hebdo latest: 11 dead 10 woun...  552792544132997121   \n",
              "..                                                 ...                 ...   \n",
              "321  [Serious] Is it true that 85% of people can on...              8gp0d7   \n",
              "322  Did Eric Schneiderman Help NXIVM Sell Child Se...              8i274x   \n",
              "323       Debunk this: The direction you sleep matters              8n9173   \n",
              "324  Is it true police officers must hit a quota at...              8unvgg   \n",
              "325  Jon Sopel: Bizarre. $MENTION$ says he came to ...              8yktu5   \n",
              "\n",
              "     label  labelvalue  \n",
              "0     true           0  \n",
              "1     true           0  \n",
              "2     true           0  \n",
              "3     true           0  \n",
              "4     true           0  \n",
              "..     ...         ...  \n",
              "321   true           0  \n",
              "322  false           1  \n",
              "323  false           1  \n",
              "324  false           1  \n",
              "325  false           1  \n",
              "\n",
              "[326 rows x 4 columns]"
            ],
            "text/html": [
              "\n",
              "  <div id=\"df-0f814323-8544-47cf-8bd6-b5d3d23cb6f4\">\n",
              "    <div class=\"colab-df-container\">\n",
              "      <div>\n",
              "<style scoped>\n",
              "    .dataframe tbody tr th:only-of-type {\n",
              "        vertical-align: middle;\n",
              "    }\n",
              "\n",
              "    .dataframe tbody tr th {\n",
              "        vertical-align: top;\n",
              "    }\n",
              "\n",
              "    .dataframe thead th {\n",
              "        text-align: right;\n",
              "    }\n",
              "</style>\n",
              "<table border=\"1\" class=\"dataframe\">\n",
              "  <thead>\n",
              "    <tr style=\"text-align: right;\">\n",
              "      <th></th>\n",
              "      <th>text</th>\n",
              "      <th>id</th>\n",
              "      <th>label</th>\n",
              "      <th>labelvalue</th>\n",
              "    </tr>\n",
              "  </thead>\n",
              "  <tbody>\n",
              "    <tr>\n",
              "      <th>0</th>\n",
              "      <td>France: 10 people dead after shooting at HQ of...</td>\n",
              "      <td>552783667052167168</td>\n",
              "      <td>true</td>\n",
              "      <td>0</td>\n",
              "    </tr>\n",
              "    <tr>\n",
              "      <th>1</th>\n",
              "      <td>BREAKING: 10 reportedly shot dead at Paris HQ ...</td>\n",
              "      <td>552785375161499649</td>\n",
              "      <td>true</td>\n",
              "      <td>0</td>\n",
              "    </tr>\n",
              "    <tr>\n",
              "      <th>2</th>\n",
              "      <td>BREAKING: At least 10 killed in shooting at Fr...</td>\n",
              "      <td>552791196247269378</td>\n",
              "      <td>true</td>\n",
              "      <td>0</td>\n",
              "    </tr>\n",
              "    <tr>\n",
              "      <th>3</th>\n",
              "      <td>Eleven dead in shooting at Paris offices of sa...</td>\n",
              "      <td>552791578893619200</td>\n",
              "      <td>true</td>\n",
              "      <td>0</td>\n",
              "    </tr>\n",
              "    <tr>\n",
              "      <th>4</th>\n",
              "      <td>BREAKING Charlie Hebdo latest: 11 dead 10 woun...</td>\n",
              "      <td>552792544132997121</td>\n",
              "      <td>true</td>\n",
              "      <td>0</td>\n",
              "    </tr>\n",
              "    <tr>\n",
              "      <th>...</th>\n",
              "      <td>...</td>\n",
              "      <td>...</td>\n",
              "      <td>...</td>\n",
              "      <td>...</td>\n",
              "    </tr>\n",
              "    <tr>\n",
              "      <th>321</th>\n",
              "      <td>[Serious] Is it true that 85% of people can on...</td>\n",
              "      <td>8gp0d7</td>\n",
              "      <td>true</td>\n",
              "      <td>0</td>\n",
              "    </tr>\n",
              "    <tr>\n",
              "      <th>322</th>\n",
              "      <td>Did Eric Schneiderman Help NXIVM Sell Child Se...</td>\n",
              "      <td>8i274x</td>\n",
              "      <td>false</td>\n",
              "      <td>1</td>\n",
              "    </tr>\n",
              "    <tr>\n",
              "      <th>323</th>\n",
              "      <td>Debunk this: The direction you sleep matters</td>\n",
              "      <td>8n9173</td>\n",
              "      <td>false</td>\n",
              "      <td>1</td>\n",
              "    </tr>\n",
              "    <tr>\n",
              "      <th>324</th>\n",
              "      <td>Is it true police officers must hit a quota at...</td>\n",
              "      <td>8unvgg</td>\n",
              "      <td>false</td>\n",
              "      <td>1</td>\n",
              "    </tr>\n",
              "    <tr>\n",
              "      <th>325</th>\n",
              "      <td>Jon Sopel: Bizarre. $MENTION$ says he came to ...</td>\n",
              "      <td>8yktu5</td>\n",
              "      <td>false</td>\n",
              "      <td>1</td>\n",
              "    </tr>\n",
              "  </tbody>\n",
              "</table>\n",
              "<p>326 rows × 4 columns</p>\n",
              "</div>\n",
              "      <button class=\"colab-df-convert\" onclick=\"convertToInteractive('df-0f814323-8544-47cf-8bd6-b5d3d23cb6f4')\"\n",
              "              title=\"Convert this dataframe to an interactive table.\"\n",
              "              style=\"display:none;\">\n",
              "        \n",
              "  <svg xmlns=\"http://www.w3.org/2000/svg\" height=\"24px\"viewBox=\"0 0 24 24\"\n",
              "       width=\"24px\">\n",
              "    <path d=\"M0 0h24v24H0V0z\" fill=\"none\"/>\n",
              "    <path d=\"M18.56 5.44l.94 2.06.94-2.06 2.06-.94-2.06-.94-.94-2.06-.94 2.06-2.06.94zm-11 1L8.5 8.5l.94-2.06 2.06-.94-2.06-.94L8.5 2.5l-.94 2.06-2.06.94zm10 10l.94 2.06.94-2.06 2.06-.94-2.06-.94-.94-2.06-.94 2.06-2.06.94z\"/><path d=\"M17.41 7.96l-1.37-1.37c-.4-.4-.92-.59-1.43-.59-.52 0-1.04.2-1.43.59L10.3 9.45l-7.72 7.72c-.78.78-.78 2.05 0 2.83L4 21.41c.39.39.9.59 1.41.59.51 0 1.02-.2 1.41-.59l7.78-7.78 2.81-2.81c.8-.78.8-2.07 0-2.86zM5.41 20L4 18.59l7.72-7.72 1.47 1.35L5.41 20z\"/>\n",
              "  </svg>\n",
              "      </button>\n",
              "      \n",
              "  <style>\n",
              "    .colab-df-container {\n",
              "      display:flex;\n",
              "      flex-wrap:wrap;\n",
              "      gap: 12px;\n",
              "    }\n",
              "\n",
              "    .colab-df-convert {\n",
              "      background-color: #E8F0FE;\n",
              "      border: none;\n",
              "      border-radius: 50%;\n",
              "      cursor: pointer;\n",
              "      display: none;\n",
              "      fill: #1967D2;\n",
              "      height: 32px;\n",
              "      padding: 0 0 0 0;\n",
              "      width: 32px;\n",
              "    }\n",
              "\n",
              "    .colab-df-convert:hover {\n",
              "      background-color: #E2EBFA;\n",
              "      box-shadow: 0px 1px 2px rgba(60, 64, 67, 0.3), 0px 1px 3px 1px rgba(60, 64, 67, 0.15);\n",
              "      fill: #174EA6;\n",
              "    }\n",
              "\n",
              "    [theme=dark] .colab-df-convert {\n",
              "      background-color: #3B4455;\n",
              "      fill: #D2E3FC;\n",
              "    }\n",
              "\n",
              "    [theme=dark] .colab-df-convert:hover {\n",
              "      background-color: #434B5C;\n",
              "      box-shadow: 0px 1px 3px 1px rgba(0, 0, 0, 0.15);\n",
              "      filter: drop-shadow(0px 1px 2px rgba(0, 0, 0, 0.3));\n",
              "      fill: #FFFFFF;\n",
              "    }\n",
              "  </style>\n",
              "\n",
              "      <script>\n",
              "        const buttonEl =\n",
              "          document.querySelector('#df-0f814323-8544-47cf-8bd6-b5d3d23cb6f4 button.colab-df-convert');\n",
              "        buttonEl.style.display =\n",
              "          google.colab.kernel.accessAllowed ? 'block' : 'none';\n",
              "\n",
              "        async function convertToInteractive(key) {\n",
              "          const element = document.querySelector('#df-0f814323-8544-47cf-8bd6-b5d3d23cb6f4');\n",
              "          const dataTable =\n",
              "            await google.colab.kernel.invokeFunction('convertToInteractive',\n",
              "                                                     [key], {});\n",
              "          if (!dataTable) return;\n",
              "\n",
              "          const docLinkHtml = 'Like what you see? Visit the ' +\n",
              "            '<a target=\"_blank\" href=https://colab.research.google.com/notebooks/data_table.ipynb>data table notebook</a>'\n",
              "            + ' to learn more about interactive tables.';\n",
              "          element.innerHTML = '';\n",
              "          dataTable['output_type'] = 'display_data';\n",
              "          await google.colab.output.renderOutput(dataTable, element);\n",
              "          const docLink = document.createElement('div');\n",
              "          docLink.innerHTML = docLinkHtml;\n",
              "          element.appendChild(docLink);\n",
              "        }\n",
              "      </script>\n",
              "    </div>\n",
              "  </div>\n",
              "  "
            ]
          },
          "metadata": {},
          "execution_count": 4
        }
      ]
    },
    {
      "cell_type": "code",
      "source": [
        "test = pd.read_csv('/content/drive/MyDrive/NLP/csvfiles/taskb/testData.csv')"
      ],
      "metadata": {
        "id": "_E7GUzNwU0-J"
      },
      "execution_count": null,
      "outputs": []
    },
    {
      "cell_type": "code",
      "source": [
        "test"
      ],
      "metadata": {
        "colab": {
          "base_uri": "https://localhost:8080/",
          "height": 424
        },
        "id": "reDQWy-cU7R3",
        "outputId": "f9ab35bc-6885-4996-87ec-8c02e6f51fce"
      },
      "execution_count": null,
      "outputs": [
        {
          "output_type": "execute_result",
          "data": {
            "text/plain": [
              "                                                 text                  id  \\\n",
              "0   #Breaking: Pentagon releases video of the “mot...  852844529778601985   \n",
              "1   Rep. Sheila Jackson Lee has no shame. I still ...  443938194715713536   \n",
              "2   ICYMI: \"Rep Sheila Jackson Lee (D-Tx) Wants Hu...  774165935041093633   \n",
              "3   In 2003, Houston U.S. Rep. Sheila Jackson Lee ...  909084965035487232   \n",
              "4   Noah’s Ark Theme Park Destroyed in a Flood? $URL$  897502435593265152   \n",
              "..                                                ...                 ...   \n",
              "76  People who can't smell. Is it true that there ...              8m9y0o   \n",
              "77  Great Pyramid of Giza can focus electromagneti...              938o5h   \n",
              "78  Is it true that the federal government require...               ayn70   \n",
              "79        Is it true Romney has Caymen bank accounts?               wfajw   \n",
              "80  I've been searching, and can't find a single c...               xn2bn   \n",
              "\n",
              "    label  labelvalue  \n",
              "0   false           1  \n",
              "1    true           0  \n",
              "2    true           0  \n",
              "3    true           0  \n",
              "4   false           1  \n",
              "..    ...         ...  \n",
              "76   true           0  \n",
              "77   true           0  \n",
              "78  false           1  \n",
              "79   true           0  \n",
              "80  false           1  \n",
              "\n",
              "[81 rows x 4 columns]"
            ],
            "text/html": [
              "\n",
              "  <div id=\"df-997882fb-3cb6-4caf-9622-4be7e7912bf1\">\n",
              "    <div class=\"colab-df-container\">\n",
              "      <div>\n",
              "<style scoped>\n",
              "    .dataframe tbody tr th:only-of-type {\n",
              "        vertical-align: middle;\n",
              "    }\n",
              "\n",
              "    .dataframe tbody tr th {\n",
              "        vertical-align: top;\n",
              "    }\n",
              "\n",
              "    .dataframe thead th {\n",
              "        text-align: right;\n",
              "    }\n",
              "</style>\n",
              "<table border=\"1\" class=\"dataframe\">\n",
              "  <thead>\n",
              "    <tr style=\"text-align: right;\">\n",
              "      <th></th>\n",
              "      <th>text</th>\n",
              "      <th>id</th>\n",
              "      <th>label</th>\n",
              "      <th>labelvalue</th>\n",
              "    </tr>\n",
              "  </thead>\n",
              "  <tbody>\n",
              "    <tr>\n",
              "      <th>0</th>\n",
              "      <td>#Breaking: Pentagon releases video of the “mot...</td>\n",
              "      <td>852844529778601985</td>\n",
              "      <td>false</td>\n",
              "      <td>1</td>\n",
              "    </tr>\n",
              "    <tr>\n",
              "      <th>1</th>\n",
              "      <td>Rep. Sheila Jackson Lee has no shame. I still ...</td>\n",
              "      <td>443938194715713536</td>\n",
              "      <td>true</td>\n",
              "      <td>0</td>\n",
              "    </tr>\n",
              "    <tr>\n",
              "      <th>2</th>\n",
              "      <td>ICYMI: \"Rep Sheila Jackson Lee (D-Tx) Wants Hu...</td>\n",
              "      <td>774165935041093633</td>\n",
              "      <td>true</td>\n",
              "      <td>0</td>\n",
              "    </tr>\n",
              "    <tr>\n",
              "      <th>3</th>\n",
              "      <td>In 2003, Houston U.S. Rep. Sheila Jackson Lee ...</td>\n",
              "      <td>909084965035487232</td>\n",
              "      <td>true</td>\n",
              "      <td>0</td>\n",
              "    </tr>\n",
              "    <tr>\n",
              "      <th>4</th>\n",
              "      <td>Noah’s Ark Theme Park Destroyed in a Flood? $URL$</td>\n",
              "      <td>897502435593265152</td>\n",
              "      <td>false</td>\n",
              "      <td>1</td>\n",
              "    </tr>\n",
              "    <tr>\n",
              "      <th>...</th>\n",
              "      <td>...</td>\n",
              "      <td>...</td>\n",
              "      <td>...</td>\n",
              "      <td>...</td>\n",
              "    </tr>\n",
              "    <tr>\n",
              "      <th>76</th>\n",
              "      <td>People who can't smell. Is it true that there ...</td>\n",
              "      <td>8m9y0o</td>\n",
              "      <td>true</td>\n",
              "      <td>0</td>\n",
              "    </tr>\n",
              "    <tr>\n",
              "      <th>77</th>\n",
              "      <td>Great Pyramid of Giza can focus electromagneti...</td>\n",
              "      <td>938o5h</td>\n",
              "      <td>true</td>\n",
              "      <td>0</td>\n",
              "    </tr>\n",
              "    <tr>\n",
              "      <th>78</th>\n",
              "      <td>Is it true that the federal government require...</td>\n",
              "      <td>ayn70</td>\n",
              "      <td>false</td>\n",
              "      <td>1</td>\n",
              "    </tr>\n",
              "    <tr>\n",
              "      <th>79</th>\n",
              "      <td>Is it true Romney has Caymen bank accounts?</td>\n",
              "      <td>wfajw</td>\n",
              "      <td>true</td>\n",
              "      <td>0</td>\n",
              "    </tr>\n",
              "    <tr>\n",
              "      <th>80</th>\n",
              "      <td>I've been searching, and can't find a single c...</td>\n",
              "      <td>xn2bn</td>\n",
              "      <td>false</td>\n",
              "      <td>1</td>\n",
              "    </tr>\n",
              "  </tbody>\n",
              "</table>\n",
              "<p>81 rows × 4 columns</p>\n",
              "</div>\n",
              "      <button class=\"colab-df-convert\" onclick=\"convertToInteractive('df-997882fb-3cb6-4caf-9622-4be7e7912bf1')\"\n",
              "              title=\"Convert this dataframe to an interactive table.\"\n",
              "              style=\"display:none;\">\n",
              "        \n",
              "  <svg xmlns=\"http://www.w3.org/2000/svg\" height=\"24px\"viewBox=\"0 0 24 24\"\n",
              "       width=\"24px\">\n",
              "    <path d=\"M0 0h24v24H0V0z\" fill=\"none\"/>\n",
              "    <path d=\"M18.56 5.44l.94 2.06.94-2.06 2.06-.94-2.06-.94-.94-2.06-.94 2.06-2.06.94zm-11 1L8.5 8.5l.94-2.06 2.06-.94-2.06-.94L8.5 2.5l-.94 2.06-2.06.94zm10 10l.94 2.06.94-2.06 2.06-.94-2.06-.94-.94-2.06-.94 2.06-2.06.94z\"/><path d=\"M17.41 7.96l-1.37-1.37c-.4-.4-.92-.59-1.43-.59-.52 0-1.04.2-1.43.59L10.3 9.45l-7.72 7.72c-.78.78-.78 2.05 0 2.83L4 21.41c.39.39.9.59 1.41.59.51 0 1.02-.2 1.41-.59l7.78-7.78 2.81-2.81c.8-.78.8-2.07 0-2.86zM5.41 20L4 18.59l7.72-7.72 1.47 1.35L5.41 20z\"/>\n",
              "  </svg>\n",
              "      </button>\n",
              "      \n",
              "  <style>\n",
              "    .colab-df-container {\n",
              "      display:flex;\n",
              "      flex-wrap:wrap;\n",
              "      gap: 12px;\n",
              "    }\n",
              "\n",
              "    .colab-df-convert {\n",
              "      background-color: #E8F0FE;\n",
              "      border: none;\n",
              "      border-radius: 50%;\n",
              "      cursor: pointer;\n",
              "      display: none;\n",
              "      fill: #1967D2;\n",
              "      height: 32px;\n",
              "      padding: 0 0 0 0;\n",
              "      width: 32px;\n",
              "    }\n",
              "\n",
              "    .colab-df-convert:hover {\n",
              "      background-color: #E2EBFA;\n",
              "      box-shadow: 0px 1px 2px rgba(60, 64, 67, 0.3), 0px 1px 3px 1px rgba(60, 64, 67, 0.15);\n",
              "      fill: #174EA6;\n",
              "    }\n",
              "\n",
              "    [theme=dark] .colab-df-convert {\n",
              "      background-color: #3B4455;\n",
              "      fill: #D2E3FC;\n",
              "    }\n",
              "\n",
              "    [theme=dark] .colab-df-convert:hover {\n",
              "      background-color: #434B5C;\n",
              "      box-shadow: 0px 1px 3px 1px rgba(0, 0, 0, 0.15);\n",
              "      filter: drop-shadow(0px 1px 2px rgba(0, 0, 0, 0.3));\n",
              "      fill: #FFFFFF;\n",
              "    }\n",
              "  </style>\n",
              "\n",
              "      <script>\n",
              "        const buttonEl =\n",
              "          document.querySelector('#df-997882fb-3cb6-4caf-9622-4be7e7912bf1 button.colab-df-convert');\n",
              "        buttonEl.style.display =\n",
              "          google.colab.kernel.accessAllowed ? 'block' : 'none';\n",
              "\n",
              "        async function convertToInteractive(key) {\n",
              "          const element = document.querySelector('#df-997882fb-3cb6-4caf-9622-4be7e7912bf1');\n",
              "          const dataTable =\n",
              "            await google.colab.kernel.invokeFunction('convertToInteractive',\n",
              "                                                     [key], {});\n",
              "          if (!dataTable) return;\n",
              "\n",
              "          const docLinkHtml = 'Like what you see? Visit the ' +\n",
              "            '<a target=\"_blank\" href=https://colab.research.google.com/notebooks/data_table.ipynb>data table notebook</a>'\n",
              "            + ' to learn more about interactive tables.';\n",
              "          element.innerHTML = '';\n",
              "          dataTable['output_type'] = 'display_data';\n",
              "          await google.colab.output.renderOutput(dataTable, element);\n",
              "          const docLink = document.createElement('div');\n",
              "          docLink.innerHTML = docLinkHtml;\n",
              "          element.appendChild(docLink);\n",
              "        }\n",
              "      </script>\n",
              "    </div>\n",
              "  </div>\n",
              "  "
            ]
          },
          "metadata": {},
          "execution_count": 6
        }
      ]
    },
    {
      "cell_type": "code",
      "source": [
        "train['label'].isnull().sum()"
      ],
      "metadata": {
        "colab": {
          "base_uri": "https://localhost:8080/"
        },
        "id": "nASMTvQoU8IY",
        "outputId": "b939f0af-faf5-4297-c6c1-3b6e02f32573"
      },
      "execution_count": null,
      "outputs": [
        {
          "output_type": "execute_result",
          "data": {
            "text/plain": [
              "0"
            ]
          },
          "metadata": {},
          "execution_count": 7
        }
      ]
    },
    {
      "cell_type": "code",
      "source": [
        "x_train = train['text'].tolist()\n",
        "y = train['labelvalue'].fillna(0)\n",
        "y_train = y.tolist()\n",
        "\n",
        "\n",
        "\n",
        "x_test = test['text'].tolist()\n",
        "y_test = test['labelvalue'].tolist()\n",
        "\n",
        "#Instantiating TfidfVectorizer object and fitting it on the training set\n",
        "tfidf         = TfidfVectorizer(min_df = 10, max_df = 0.5, ngram_range=(1,2))\n",
        "x_train_feats = tfidf.fit(x_train)\n",
        "\n",
        "\n"
      ],
      "metadata": {
        "colab": {
          "base_uri": "https://localhost:8080/"
        },
        "id": "wlmaJid-VDh2",
        "outputId": "99163463-412d-439a-efc9-bc9f48d002e3"
      },
      "execution_count": null,
      "outputs": [
        {
          "output_type": "stream",
          "name": "stdout",
          "text": [
            "TfidfVectorizer(max_df=0.5, min_df=10, ngram_range=(1, 2))\n",
            "102\n",
            "(326, 102)\n"
          ]
        }
      ]
    },
    {
      "cell_type": "code",
      "source": [
        "SVM = svm.SVC(C=1.0, kernel='linear', degree=3, gamma='auto',probability=True)\n",
        "SVM.fit(x_train_transform,y_train)\n",
        "# predict the labels on validation dataset\n",
        "predictions_SVM = SVM.predict(x_test)\n",
        "# Use accuracy_score function to get the accuracy\n",
        "print(\"SVM Accuracy Score -> \",accuracy_score(predictions_SVM, y_test)*100)"
      ],
      "metadata": {
        "colab": {
          "base_uri": "https://localhost:8080/"
        },
        "id": "wS9uS-hKY_cJ",
        "outputId": "3ea95fd6-8229-40f4-ed8c-288879ed4420"
      },
      "execution_count": null,
      "outputs": [
        {
          "output_type": "stream",
          "name": "stdout",
          "text": [
            "SVM Accuracy Score ->  41.9753086419753\n"
          ]
        }
      ]
    },
    {
      "cell_type": "code",
      "source": [
        "class_probabilities = SVM.predict_proba(x_test)"
      ],
      "metadata": {
        "id": "8HFn9Qy3ZIUj"
      },
      "execution_count": null,
      "outputs": []
    },
    {
      "cell_type": "code",
      "source": [
        "predictions_SVM"
      ],
      "metadata": {
        "colab": {
          "base_uri": "https://localhost:8080/"
        },
        "id": "fv5JipL8Zm1V",
        "outputId": "10afc6a0-682d-4440-82c4-7998073f93b0"
      },
      "execution_count": null,
      "outputs": [
        {
          "output_type": "execute_result",
          "data": {
            "text/plain": [
              "array([0, 0, 0, 0, 0, 2, 2, 2, 0, 2, 2, 0, 1, 2, 1, 0, 0, 0, 0, 0, 2, 0,\n",
              "       0, 0, 0, 2, 2, 2, 1, 0, 0, 0, 2, 2, 1, 0, 1, 1, 1, 1, 0, 0, 0, 1,\n",
              "       2, 1, 1, 1, 1, 0, 0, 0, 0, 0, 1, 0, 1, 1, 0, 1, 2, 0, 1, 1, 0, 1,\n",
              "       1, 1, 1, 0, 1, 1, 0, 1, 1, 1, 0, 0, 1, 1, 2])"
            ]
          },
          "metadata": {},
          "execution_count": 10
        }
      ]
    },
    {
      "cell_type": "code",
      "source": [
        "class_probabilities"
      ],
      "metadata": {
        "colab": {
          "base_uri": "https://localhost:8080/"
        },
        "id": "LPdMfdQ2ZVlz",
        "outputId": "99071b80-27f1-43e0-e213-80c7e343adeb"
      },
      "execution_count": null,
      "outputs": [
        {
          "output_type": "execute_result",
          "data": {
            "text/plain": [
              "array([[0.52855302, 0.09245462, 0.37899236],\n",
              "       [0.46685654, 0.30519835, 0.22794511],\n",
              "       [0.42295983, 0.21115118, 0.36588898],\n",
              "       [0.42063093, 0.12052115, 0.45884792],\n",
              "       [0.3885192 , 0.21025406, 0.40122674],\n",
              "       [0.25492315, 0.3344264 , 0.41065045],\n",
              "       [0.32668543, 0.27382531, 0.39948926],\n",
              "       [0.31694369, 0.14902207, 0.53403424],\n",
              "       [0.46727399, 0.24328312, 0.28944288],\n",
              "       [0.3613709 , 0.12490136, 0.51372773],\n",
              "       [0.3613709 , 0.12490136, 0.51372773],\n",
              "       [0.67150134, 0.0624591 , 0.26603956],\n",
              "       [0.32094351, 0.58668494, 0.09237155],\n",
              "       [0.12795589, 0.35173051, 0.5203136 ],\n",
              "       [0.30322968, 0.45475187, 0.24201845],\n",
              "       [0.3741752 , 0.18158821, 0.44423658],\n",
              "       [0.33914676, 0.29175529, 0.36909795],\n",
              "       [0.35091225, 0.2681113 , 0.38097644],\n",
              "       [0.35091225, 0.2681113 , 0.38097644],\n",
              "       [0.35091225, 0.2681113 , 0.38097644],\n",
              "       [0.28449587, 0.29057229, 0.42493184],\n",
              "       [0.40754032, 0.2807799 , 0.31167978],\n",
              "       [0.53771713, 0.13664394, 0.32563893],\n",
              "       [0.48711275, 0.21409959, 0.29878766],\n",
              "       [0.48711275, 0.21409959, 0.29878766],\n",
              "       [0.09276555, 0.12817201, 0.77906243],\n",
              "       [0.17522153, 0.30290209, 0.52187639],\n",
              "       [0.28897086, 0.1107178 , 0.60031135],\n",
              "       [0.23070847, 0.57014005, 0.19915148],\n",
              "       [0.65004945, 0.12171705, 0.22823351],\n",
              "       [0.65004945, 0.12171705, 0.22823351],\n",
              "       [0.39918278, 0.17938149, 0.42143573],\n",
              "       [0.26558223, 0.31233726, 0.42208051],\n",
              "       [0.26151355, 0.18349125, 0.5549952 ],\n",
              "       [0.25336771, 0.66746939, 0.07916291],\n",
              "       [0.42686573, 0.41331715, 0.15981712],\n",
              "       [0.12492369, 0.71244271, 0.16263359],\n",
              "       [0.11377866, 0.67906597, 0.20715537],\n",
              "       [0.17165318, 0.75294024, 0.07540658],\n",
              "       [0.17165318, 0.75294024, 0.07540658],\n",
              "       [0.41885251, 0.2742408 , 0.30690669],\n",
              "       [0.39892165, 0.38296437, 0.21811399],\n",
              "       [0.35151569, 0.27998118, 0.36850313],\n",
              "       [0.31366001, 0.40911348, 0.27722651],\n",
              "       [0.38297727, 0.11677865, 0.50024409],\n",
              "       [0.17858671, 0.71811078, 0.10330251],\n",
              "       [0.17858671, 0.71811078, 0.10330251],\n",
              "       [0.25368679, 0.64148289, 0.10483032],\n",
              "       [0.19772931, 0.67018888, 0.13208181],\n",
              "       [0.5145982 , 0.20933105, 0.27607074],\n",
              "       [0.45594053, 0.12001645, 0.42404302],\n",
              "       [0.48711275, 0.21409959, 0.29878766],\n",
              "       [0.45594053, 0.12001645, 0.42404302],\n",
              "       [0.45594053, 0.12001645, 0.42404302],\n",
              "       [0.27166435, 0.52964389, 0.19869177],\n",
              "       [0.52147464, 0.1665376 , 0.31198775],\n",
              "       [0.3967867 , 0.45348219, 0.14973111],\n",
              "       [0.31124877, 0.57467874, 0.11407249],\n",
              "       [0.40198731, 0.28160246, 0.31641023],\n",
              "       [0.37549962, 0.49274588, 0.1317545 ],\n",
              "       [0.23776814, 0.36446329, 0.39776858],\n",
              "       [0.47524153, 0.25439633, 0.27036215],\n",
              "       [0.31124877, 0.57467874, 0.11407249],\n",
              "       [0.33004565, 0.41129455, 0.2586598 ],\n",
              "       [0.67758708, 0.175328  , 0.14708492],\n",
              "       [0.39425771, 0.41186841, 0.19387387],\n",
              "       [0.20183497, 0.62177844, 0.17638659],\n",
              "       [0.33302297, 0.48554573, 0.18143129],\n",
              "       [0.27813693, 0.59406487, 0.1277982 ],\n",
              "       [0.40569197, 0.33626883, 0.2580392 ],\n",
              "       [0.33654203, 0.49202141, 0.17143656],\n",
              "       [0.26916269, 0.43616352, 0.29467379],\n",
              "       [0.41624128, 0.36215711, 0.22160161],\n",
              "       [0.27289071, 0.44683862, 0.28027068],\n",
              "       [0.35197326, 0.51601883, 0.13200791],\n",
              "       [0.38986071, 0.49149404, 0.11864525],\n",
              "       [0.49969058, 0.33447003, 0.16583939],\n",
              "       [0.49928226, 0.14299089, 0.35772685],\n",
              "       [0.33993986, 0.57721366, 0.08284648],\n",
              "       [0.18422713, 0.72524763, 0.09052524],\n",
              "       [0.35458783, 0.15248888, 0.49292329]])"
            ]
          },
          "metadata": {},
          "execution_count": 11
        }
      ]
    },
    {
      "cell_type": "code",
      "source": [
        "class_probabilities[1][predictions_SVM[1]]"
      ],
      "metadata": {
        "colab": {
          "base_uri": "https://localhost:8080/"
        },
        "id": "gTdYONZC-nnZ",
        "outputId": "672b8b2b-79f2-4344-f528-db2548ac7965"
      },
      "execution_count": null,
      "outputs": [
        {
          "output_type": "execute_result",
          "data": {
            "text/plain": [
              "0.46084108406461416"
            ]
          },
          "metadata": {},
          "execution_count": 18
        }
      ]
    },
    {
      "cell_type": "code",
      "source": [
        "predictions_SVM"
      ],
      "metadata": {
        "colab": {
          "base_uri": "https://localhost:8080/"
        },
        "id": "_z9OFCQ6-rfj",
        "outputId": "1b915a7f-13ac-4d1b-b68e-6eb3a421f659"
      },
      "execution_count": null,
      "outputs": [
        {
          "output_type": "execute_result",
          "data": {
            "text/plain": [
              "array([0, 0, 0, 0, 0, 2, 2, 2, 0, 2, 2, 0, 1, 2, 1, 0, 0, 0, 0, 0, 2, 0,\n",
              "       0, 0, 0, 2, 2, 2, 1, 0, 0, 0, 2, 2, 1, 0, 1, 1, 1, 1, 0, 0, 0, 1,\n",
              "       2, 1, 1, 1, 1, 0, 0, 0, 0, 0, 1, 0, 1, 1, 0, 1, 2, 0, 1, 1, 0, 1,\n",
              "       1, 1, 1, 0, 1, 1, 0, 1, 1, 1, 0, 0, 1, 1, 2])"
            ]
          },
          "metadata": {},
          "execution_count": 17
        }
      ]
    },
    {
      "cell_type": "code",
      "source": [
        "cscore = []\n",
        "for i in range(len(predictions_SVM)):\n",
        "  if predictions_SVM[i] == 2:\n",
        "    cscore.append(0)\n",
        "  else:\n",
        "    cscore.append(class_probabilities[i][predictions_SVM[i]])"
      ],
      "metadata": {
        "id": "S6S-hO6P_P9-"
      },
      "execution_count": null,
      "outputs": []
    },
    {
      "cell_type": "code",
      "source": [
        "oneList = [1]*len(cscore)"
      ],
      "metadata": {
        "id": "uTTI_2th_74l"
      },
      "execution_count": null,
      "outputs": []
    },
    {
      "cell_type": "code",
      "source": [
        "from sklearn.metrics import mean_squared_error\n",
        "\n",
        "rms = mean_squared_error(oneList,cscore, squared=False)\n"
      ],
      "metadata": {
        "id": "bfhEtyJE9tyq"
      },
      "execution_count": null,
      "outputs": []
    },
    {
      "cell_type": "code",
      "source": [
        "rms"
      ],
      "metadata": {
        "colab": {
          "base_uri": "https://localhost:8080/"
        },
        "id": "0pWC_-rm95wx",
        "outputId": "ad3ff1b7-ae77-426b-dd62-1d496c82d45e"
      },
      "execution_count": null,
      "outputs": [
        {
          "output_type": "execute_result",
          "data": {
            "text/plain": [
              "0.6243523195029409"
            ]
          },
          "metadata": {},
          "execution_count": 17
        }
      ]
    },
    {
      "cell_type": "code",
      "source": [
        "cr = classification_report(y_test, predictions_SVM)\n",
        "print(cr)"
      ],
      "metadata": {
        "colab": {
          "base_uri": "https://localhost:8080/"
        },
        "id": "EprtaA2cVul7",
        "outputId": "c81e1245-d29b-4e7d-b643-deb85dabff1c"
      },
      "execution_count": null,
      "outputs": [
        {
          "output_type": "stream",
          "name": "stdout",
          "text": [
            "              precision    recall  f1-score   support\n",
            "\n",
            "           0       0.44      0.52      0.48        31\n",
            "           1       0.57      0.42      0.49        40\n",
            "           2       0.07      0.10      0.08        10\n",
            "\n",
            "    accuracy                           0.42        81\n",
            "   macro avg       0.36      0.35      0.35        81\n",
            "weighted avg       0.46      0.42      0.43        81\n",
            "\n"
          ]
        }
      ]
    },
    {
      "cell_type": "code",
      "source": [
        "from sklearn.neural_network import MLPClassifier"
      ],
      "metadata": {
        "id": "B_N2inM3V7PM"
      },
      "execution_count": null,
      "outputs": []
    },
    {
      "cell_type": "code",
      "source": [
        "clf = MLPClassifier(random_state=1, max_iter=300).fit(x_train_transform,y_train)\n",
        "preds = clf.predict(x_test)\n",
        "print(\"mlp Accuracy Score -> \",accuracy_score(preds, y_test)*100)"
      ],
      "metadata": {
        "colab": {
          "base_uri": "https://localhost:8080/"
        },
        "id": "xvAprG_cWAue",
        "outputId": "49be1e36-e065-4ebe-c59b-8b62a85639c8"
      },
      "execution_count": null,
      "outputs": [
        {
          "output_type": "stream",
          "name": "stdout",
          "text": [
            "mlp Accuracy Score ->  43.20987654320987\n"
          ]
        },
        {
          "output_type": "stream",
          "name": "stderr",
          "text": [
            "/usr/local/lib/python3.7/dist-packages/sklearn/neural_network/_multilayer_perceptron.py:696: ConvergenceWarning: Stochastic Optimizer: Maximum iterations (300) reached and the optimization hasn't converged yet.\n",
            "  ConvergenceWarning,\n"
          ]
        }
      ]
    },
    {
      "cell_type": "code",
      "source": [
        "cr = classification_report(y_test, preds)\n",
        "print(cr)"
      ],
      "metadata": {
        "colab": {
          "base_uri": "https://localhost:8080/"
        },
        "id": "KT4_syhPWFlT",
        "outputId": "490f273f-b14c-4389-85c3-fec607c4137c"
      },
      "execution_count": null,
      "outputs": [
        {
          "output_type": "stream",
          "name": "stdout",
          "text": [
            "              precision    recall  f1-score   support\n",
            "\n",
            "           0       0.42      0.26      0.32        31\n",
            "           1       0.62      0.62      0.62        40\n",
            "           2       0.09      0.20      0.13        10\n",
            "\n",
            "    accuracy                           0.43        81\n",
            "   macro avg       0.38      0.36      0.36        81\n",
            "weighted avg       0.48      0.43      0.45        81\n",
            "\n"
          ]
        }
      ]
    },
    {
      "cell_type": "code",
      "source": [
        "preds"
      ],
      "metadata": {
        "id": "pOQs7DNBZ_VU",
        "outputId": "0d2b4ab6-7703-48ba-b296-c8da1d7e8abd",
        "colab": {
          "base_uri": "https://localhost:8080/"
        }
      },
      "execution_count": null,
      "outputs": [
        {
          "output_type": "execute_result",
          "data": {
            "text/plain": [
              "array([0, 0, 2, 2, 1, 2, 0, 2, 0, 2, 2, 0, 1, 2, 1, 2, 1, 0, 0, 0, 2, 1,\n",
              "       0, 1, 1, 2, 2, 2, 1, 0, 0, 0, 2, 2, 1, 1, 1, 1, 1, 1, 1, 1, 1, 1,\n",
              "       2, 1, 1, 1, 1, 1, 2, 1, 2, 2, 1, 0, 0, 1, 1, 1, 1, 0, 1, 2, 0, 1,\n",
              "       1, 1, 1, 0, 1, 1, 0, 2, 1, 1, 0, 2, 1, 1, 2])"
            ]
          },
          "metadata": {},
          "execution_count": 30
        }
      ]
    },
    {
      "cell_type": "code",
      "source": [
        "c=0\n",
        "p = list(preds)\n",
        "for i in range(len(preds)):\n",
        "  if preds[i] == y_test[i]:\n",
        "    c +=1\n",
        "    print(preds[i],y_test[i])\n",
        "print(c)"
      ],
      "metadata": {
        "colab": {
          "base_uri": "https://localhost:8080/"
        },
        "id": "Jjo8bh4nCRqq",
        "outputId": "fd7ccaf8-ab57-4f1b-ad40-554287165fe7"
      },
      "execution_count": null,
      "outputs": [
        {
          "output_type": "stream",
          "name": "stdout",
          "text": [
            "0 0\n",
            "1 1\n",
            "0 0\n",
            "0 0\n",
            "1 1\n",
            "2 2\n",
            "0 0\n",
            "1 1\n",
            "0 0\n",
            "1 1\n",
            "1 1\n",
            "1 1\n",
            "1 1\n",
            "1 1\n",
            "1 1\n",
            "1 1\n",
            "1 1\n",
            "1 1\n",
            "1 1\n",
            "1 1\n",
            "1 1\n",
            "1 1\n",
            "1 1\n",
            "1 1\n",
            "0 0\n",
            "1 1\n",
            "1 1\n",
            "1 1\n",
            "0 0\n",
            "1 1\n",
            "1 1\n",
            "1 1\n",
            "2 2\n",
            "0 0\n",
            "1 1\n",
            "35\n"
          ]
        }
      ]
    },
    {
      "cell_type": "code",
      "source": [
        "class_probabilities = clf.predict_proba(x_test)"
      ],
      "metadata": {
        "id": "2qv2u_j9WJ7g"
      },
      "execution_count": null,
      "outputs": []
    },
    {
      "cell_type": "code",
      "source": [
        "class_probabilities"
      ],
      "metadata": {
        "colab": {
          "base_uri": "https://localhost:8080/"
        },
        "id": "jb3faoAzAiHt",
        "outputId": "c7a0a960-6b89-4731-ca99-ff63cd0b2b7b"
      },
      "execution_count": null,
      "outputs": [
        {
          "output_type": "execute_result",
          "data": {
            "text/plain": [
              "array([[9.34323828e-01, 1.10418157e-04, 6.55657539e-02],\n",
              "       [8.66090697e-01, 1.31241095e-01, 2.66820801e-03],\n",
              "       [6.68133262e-02, 3.27274476e-02, 9.00459226e-01],\n",
              "       [2.73136407e-01, 3.03483432e-02, 6.96515250e-01],\n",
              "       [2.79738818e-01, 3.62691635e-01, 3.57569546e-01],\n",
              "       [1.92912564e-01, 2.19902877e-01, 5.87184559e-01],\n",
              "       [6.20666466e-01, 9.95699744e-02, 2.79763560e-01],\n",
              "       [3.24741017e-02, 8.62065960e-04, 9.66663832e-01],\n",
              "       [7.52054765e-01, 2.08112785e-01, 3.98324501e-02],\n",
              "       [1.56026433e-01, 3.06458428e-03, 8.40908983e-01],\n",
              "       [1.56026433e-01, 3.06458428e-03, 8.40908983e-01],\n",
              "       [7.57639885e-01, 4.76968763e-04, 2.41883146e-01],\n",
              "       [2.95772838e-03, 9.96960905e-01, 8.13665233e-05],\n",
              "       [6.25872661e-04, 2.12890118e-01, 7.86484009e-01],\n",
              "       [1.51051880e-02, 9.80444459e-01, 4.45035252e-03],\n",
              "       [1.16806391e-01, 3.37153434e-01, 5.46040175e-01],\n",
              "       [5.70329649e-02, 7.89697304e-01, 1.53269731e-01],\n",
              "       [4.89525956e-01, 4.03107813e-01, 1.07366231e-01],\n",
              "       [4.89525956e-01, 4.03107813e-01, 1.07366231e-01],\n",
              "       [4.89525956e-01, 4.03107813e-01, 1.07366231e-01],\n",
              "       [2.82211616e-01, 2.52063316e-01, 4.65725068e-01],\n",
              "       [3.14401597e-01, 5.68285394e-01, 1.17313009e-01],\n",
              "       [3.86978101e-01, 2.32698941e-01, 3.80322958e-01],\n",
              "       [1.75259467e-01, 5.74461304e-01, 2.50279228e-01],\n",
              "       [1.75259467e-01, 5.74461304e-01, 2.50279228e-01],\n",
              "       [1.80537041e-03, 1.14038506e-02, 9.86790779e-01],\n",
              "       [9.45485189e-03, 2.68173581e-01, 7.22371567e-01],\n",
              "       [1.80511907e-02, 1.36128264e-03, 9.80587527e-01],\n",
              "       [1.19996311e-03, 9.93605404e-01, 5.19463321e-03],\n",
              "       [9.62054540e-01, 1.49167760e-02, 2.30286842e-02],\n",
              "       [9.62054540e-01, 1.49167760e-02, 2.30286842e-02],\n",
              "       [7.42177394e-01, 1.42168612e-01, 1.15653994e-01],\n",
              "       [2.69992962e-03, 1.55224987e-02, 9.81777572e-01],\n",
              "       [3.26544887e-01, 5.75893840e-03, 6.67696175e-01],\n",
              "       [2.47078640e-03, 9.97476176e-01, 5.30371330e-05],\n",
              "       [1.61496586e-02, 9.76978956e-01, 6.87138535e-03],\n",
              "       [1.17925158e-04, 9.99375139e-01, 5.06935963e-04],\n",
              "       [1.40091296e-04, 9.96846105e-01, 3.01380335e-03],\n",
              "       [1.88103439e-04, 9.99802264e-01, 9.63238139e-06],\n",
              "       [1.88103439e-04, 9.99802264e-01, 9.63238139e-06],\n",
              "       [3.32162871e-01, 4.28951047e-01, 2.38886083e-01],\n",
              "       [2.77918068e-01, 7.20708281e-01, 1.37365106e-03],\n",
              "       [2.42688425e-02, 8.74305607e-01, 1.01425550e-01],\n",
              "       [8.56444152e-03, 9.82155568e-01, 9.27999094e-03],\n",
              "       [1.35852685e-01, 2.34097695e-02, 8.40737545e-01],\n",
              "       [1.44622023e-04, 9.99710582e-01, 1.44795679e-04],\n",
              "       [1.44622023e-04, 9.99710582e-01, 1.44795679e-04],\n",
              "       [1.03263729e-03, 9.98837458e-01, 1.29905136e-04],\n",
              "       [2.74661075e-04, 9.99369616e-01, 3.55723414e-04],\n",
              "       [2.92471531e-01, 6.84260535e-01, 2.32679334e-02],\n",
              "       [3.81751529e-01, 3.77075272e-02, 5.80540943e-01],\n",
              "       [1.75259467e-01, 5.74461304e-01, 2.50279228e-01],\n",
              "       [3.81751529e-01, 3.77075272e-02, 5.80540943e-01],\n",
              "       [3.81751529e-01, 3.77075272e-02, 5.80540943e-01],\n",
              "       [3.19956685e-03, 9.89019098e-01, 7.78133509e-03],\n",
              "       [7.23457291e-01, 3.04672659e-02, 2.46075443e-01],\n",
              "       [5.81009995e-01, 4.09311445e-01, 9.67855956e-03],\n",
              "       [3.59038066e-03, 9.96302692e-01, 1.06927331e-04],\n",
              "       [2.73342575e-01, 4.35125458e-01, 2.91531967e-01],\n",
              "       [4.04911385e-02, 9.58819600e-01, 6.89261632e-04],\n",
              "       [5.25803900e-02, 7.20931286e-01, 2.26488324e-01],\n",
              "       [8.30284969e-01, 2.78649635e-02, 1.41850067e-01],\n",
              "       [3.59038066e-03, 9.96302692e-01, 1.06927331e-04],\n",
              "       [1.12453758e-01, 4.25401502e-01, 4.62144740e-01],\n",
              "       [9.87525719e-01, 5.16318240e-03, 7.31109812e-03],\n",
              "       [4.72468570e-02, 9.47942986e-01, 4.81015651e-03],\n",
              "       [2.15065688e-03, 8.48654116e-01, 1.49195227e-01],\n",
              "       [3.33349849e-02, 9.49542454e-01, 1.71225612e-02],\n",
              "       [4.20968643e-03, 9.85760802e-01, 1.00295112e-02],\n",
              "       [4.56761187e-01, 4.33006579e-01, 1.10232233e-01],\n",
              "       [2.54550895e-01, 7.37359388e-01, 8.08971764e-03],\n",
              "       [2.14958825e-02, 8.47231929e-01, 1.31272188e-01],\n",
              "       [7.01574647e-01, 8.44111888e-02, 2.14014164e-01],\n",
              "       [2.42277671e-02, 3.89154398e-01, 5.86617835e-01],\n",
              "       [1.71842486e-01, 8.24145507e-01, 4.01200744e-03],\n",
              "       [7.75497717e-03, 9.92054006e-01, 1.91016892e-04],\n",
              "       [9.91302398e-01, 6.52962975e-03, 2.16797205e-03],\n",
              "       [2.74881299e-01, 5.46332455e-02, 6.70485456e-01],\n",
              "       [5.03453689e-02, 9.48890598e-01, 7.64033053e-04],\n",
              "       [5.47598866e-04, 9.98757910e-01, 6.94491089e-04],\n",
              "       [1.70300626e-01, 3.39080814e-03, 8.26308566e-01]])"
            ]
          },
          "metadata": {},
          "execution_count": 34
        }
      ]
    },
    {
      "cell_type": "code",
      "source": [
        "cscoreMLP = []\n",
        "for i in range(len(preds)):\n",
        "  if preds[i] == 2:\n",
        "    cscoreMLP.append(0)\n",
        "  else:\n",
        "    cscoreMLP.append(class_probabilities[i][preds[i]])"
      ],
      "metadata": {
        "id": "-67Z9rv_Z8dA"
      },
      "execution_count": null,
      "outputs": []
    },
    {
      "cell_type": "code",
      "source": [
        "cscoreMLP"
      ],
      "metadata": {
        "colab": {
          "base_uri": "https://localhost:8080/"
        },
        "id": "MYzpZJJfAQGL",
        "outputId": "61fdae53-db13-4162-c28d-be07d447ff02"
      },
      "execution_count": null,
      "outputs": [
        {
          "output_type": "execute_result",
          "data": {
            "text/plain": [
              "[0.9343238279646502,\n",
              " 0.8660906965308149,\n",
              " 0,\n",
              " 0,\n",
              " 0.3626916353173756,\n",
              " 0,\n",
              " 0.6206664658349468,\n",
              " 0,\n",
              " 0.752054764625087,\n",
              " 0,\n",
              " 0,\n",
              " 0.7576398854361921,\n",
              " 0.9969609050957294,\n",
              " 0,\n",
              " 0.9804444594470706,\n",
              " 0,\n",
              " 0.7896973042482119,\n",
              " 0.48952595606931554,\n",
              " 0.48952595606931554,\n",
              " 0.48952595606931554,\n",
              " 0,\n",
              " 0.5682853942186564,\n",
              " 0.3869781009676343,\n",
              " 0.5744613043973454,\n",
              " 0.5744613043973454,\n",
              " 0,\n",
              " 0,\n",
              " 0,\n",
              " 0.9936054036775154,\n",
              " 0.9620545397318523,\n",
              " 0.9620545397318523,\n",
              " 0.7421773937989014,\n",
              " 0,\n",
              " 0,\n",
              " 0.9974761764695358,\n",
              " 0.9769789560275509,\n",
              " 0.9993751388790669,\n",
              " 0.9968461053546048,\n",
              " 0.9998022641796498,\n",
              " 0.9998022641796498,\n",
              " 0.42895104653560157,\n",
              " 0.7207082808116302,\n",
              " 0.8743056074158722,\n",
              " 0.9821555675436862,\n",
              " 0,\n",
              " 0.9997105822981628,\n",
              " 0.9997105822981628,\n",
              " 0.9988374575757588,\n",
              " 0.9993696155108155,\n",
              " 0.6842605354640628,\n",
              " 0,\n",
              " 0.5744613043973454,\n",
              " 0,\n",
              " 0,\n",
              " 0.9890190980582088,\n",
              " 0.7234572912875762,\n",
              " 0.5810099952915009,\n",
              " 0.9963026920085197,\n",
              " 0.43512545792435,\n",
              " 0.958819599899386,\n",
              " 0.7209312857888913,\n",
              " 0.8302849692622418,\n",
              " 0.9963026920085197,\n",
              " 0,\n",
              " 0.9875257194813721,\n",
              " 0.9479429864447447,\n",
              " 0.8486541162312545,\n",
              " 0.9495424539626067,\n",
              " 0.9857608023785063,\n",
              " 0.4567611872152379,\n",
              " 0.7373593878561485,\n",
              " 0.8472319294652302,\n",
              " 0.7015746471274621,\n",
              " 0,\n",
              " 0.8241455068796127,\n",
              " 0.9920540059394174,\n",
              " 0.9913023982001188,\n",
              " 0,\n",
              " 0.9488905980019751,\n",
              " 0.9987579100451932,\n",
              " 0]"
            ]
          },
          "metadata": {},
          "execution_count": 47
        }
      ]
    },
    {
      "cell_type": "code",
      "source": [
        "oneList = [1]*len(cscoreMLP)"
      ],
      "metadata": {
        "id": "h6FhETRwAmRy"
      },
      "execution_count": null,
      "outputs": []
    },
    {
      "cell_type": "code",
      "source": [
        "from sklearn.metrics import mean_squared_error\n",
        "\n",
        "rmsMLP = mean_squared_error(oneList,cscoreMLP, squared=False)\n"
      ],
      "metadata": {
        "id": "HyqTLpj5As3P"
      },
      "execution_count": null,
      "outputs": []
    },
    {
      "cell_type": "code",
      "source": [
        "rmsMLP"
      ],
      "metadata": {
        "colab": {
          "base_uri": "https://localhost:8080/"
        },
        "id": "7LjlqlZUAyCa",
        "outputId": "023d8826-0189-4df3-b7bd-bc3f9696bad8"
      },
      "execution_count": null,
      "outputs": [
        {
          "output_type": "execute_result",
          "data": {
            "text/plain": [
              "0.5712503086670723"
            ]
          },
          "metadata": {},
          "execution_count": 50
        }
      ]
    },
    {
      "cell_type": "code",
      "source": [
        ""
      ],
      "metadata": {
        "id": "3Sbg4gGyAzOE"
      },
      "execution_count": null,
      "outputs": []
    }
  ]
}