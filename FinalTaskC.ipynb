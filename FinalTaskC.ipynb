{
  "cells": [
    {
      "cell_type": "code",
      "execution_count": null,
      "metadata": {
        "id": "9715912d"
      },
      "outputs": [],
      "source": [
        "import numpy as np # linear algebra\n",
        "import pandas as pd # data processing, CSV file I/O (e.g. pd.read_csv)\n",
        "\n",
        "import os\n",
        "# for dirname, _, filenames in os.walk('/kaggle/input'):\n",
        "#     for filename in filenames:\n",
        "#         print(os.path.join(dirname, filename))\n",
        "\n"
      ],
      "id": "9715912d"
    },
    {
      "cell_type": "code",
      "execution_count": null,
      "metadata": {
        "colab": {
          "base_uri": "https://localhost:8080/"
        },
        "id": "dwGva9CgmFdg",
        "outputId": "59c2d67d-4ce0-442c-98cc-1060a9bb7cec"
      },
      "outputs": [
        {
          "name": "stdout",
          "output_type": "stream",
          "text": [
            "Mounted at /content/drive\n"
          ]
        }
      ],
      "source": [
        "from google.colab import drive\n",
        "drive.mount('/content/drive')"
      ],
      "id": "dwGva9CgmFdg"
    },
    {
      "cell_type": "code",
      "execution_count": null,
      "metadata": {
        "id": "6403b02c"
      },
      "outputs": [],
      "source": [
        "raw = pd.read_csv(\"/content/drive/MyDrive/NLP/taskCTrainingData.csv\",encoding='iso-8859-1')"
      ],
      "id": "6403b02c"
    },
    {
      "cell_type": "code",
      "execution_count": null,
      "metadata": {
        "id": "fb228e09"
      },
      "outputs": [],
      "source": [
        "pre1 =  raw.iloc[:,0:2].copy()\n",
        "pre = pd.DataFrame()\n",
        "pre['text'] = pd.concat([pre1['source_text']], ignore_index=True)\n",
        "pre['stance'] = pd.concat([pre1['target_text']],ignore_index = True)"
      ],
      "id": "fb228e09"
    },
    {
      "cell_type": "code",
      "execution_count": null,
      "metadata": {
        "id": "e00f0647"
      },
      "outputs": [],
      "source": [
        "pre['text'][0]"
      ],
      "id": "e00f0647"
    },
    {
      "cell_type": "code",
      "execution_count": null,
      "metadata": {
        "id": "b2cc89e1"
      },
      "outputs": [],
      "source": [
        "import re\n",
        "def text_strip(column):\n",
        "    for row in column:\n",
        "        row=re.sub(\"(\\\\t)\", ' ', str(row)).lower() \n",
        "        row=re.sub(\"(\\\\r)\", ' ', str(row)).lower() \n",
        "        row=re.sub(\"(\\\\n)\", ' ', str(row)).lower()\n",
        "        row=re.sub(\"(__+)\", ' ', str(row)).lower()   \n",
        "        row=re.sub(\"(--+)\", ' ', str(row)).lower()   \n",
        "        row=re.sub(\"(~~+)\", ' ', str(row)).lower()  \n",
        "        row=re.sub(\"(\\+\\++)\", ' ', str(row)).lower()   \n",
        "        row=re.sub(\"(\\.\\.+)\", ' ', str(row)).lower()   \n",
        "        row=re.sub(r\"[<>()|&©ø\\[\\]\\'\\\",;?~*!]\", ' ', str(row)).lower()\n",
        "        row=re.sub(\"(mailto:)\", ' ', str(row)).lower() \n",
        "        row=re.sub(r\"(\\\\x9\\d)\", ' ', str(row)).lower() \n",
        "        row=re.sub(\"([iI][nN][cC]\\d+)\", 'INC_NUM', str(row)).lower() \n",
        "        row=re.sub(\"([cC][mM]\\d+)|([cC][hH][gG]\\d+)\", 'CM_NUM', str(row)).lower()        \n",
        "        row=re.sub(\"(\\.\\s+)\", ' ', str(row)).lower() \n",
        "        row=re.sub(\"(\\-\\s+)\", ' ', str(row)).lower() \n",
        "        row=re.sub(\"(\\:\\s+)\", ' ', str(row)).lower() \n",
        "        row=re.sub(\"(\\s+.\\s+)\", ' ', str(row)).lower() \n",
        "        \n",
        "        try:\n",
        "            url = re.search(r'((https*:\\/*)([^\\/\\s]+))(.[^\\s]+)', str(row))\n",
        "            repl_url = url.group(3)\n",
        "            row = re.sub(r'((https*:\\/*)([^\\/\\s]+))(.[^\\s]+)',repl_url, str(row))\n",
        "        except:\n",
        "            pass \n",
        "        row = re.sub(\"(\\s+)\",' ',str(row)).lower() \n",
        "        row=re.sub(\"(\\s+.\\s+)\", ' ', str(row)).lower()  \n",
        "        yield row"
      ],
      "id": "b2cc89e1"
    },
    {
      "cell_type": "code",
      "execution_count": null,
      "metadata": {
        "id": "941edb84"
      },
      "outputs": [],
      "source": [
        "brief_cleaning1 = text_strip(pre['text'])\n",
        "brief_cleaning2 = text_strip(pre['stance'])"
      ],
      "id": "941edb84"
    },
    {
      "cell_type": "code",
      "execution_count": null,
      "metadata": {
        "id": "e81bb022",
        "scrolled": true
      },
      "outputs": [],
      "source": [
        "!pip install spacy"
      ],
      "id": "e81bb022"
    },
    {
      "cell_type": "code",
      "execution_count": null,
      "metadata": {
        "id": "d9467d26"
      },
      "outputs": [],
      "source": [
        "from time import time\n",
        "import spacy\n",
        "nlp = spacy.load(\"en_core_web_sm\", disable=['ner','parser'])\n",
        "t = time()\n",
        "text = [str(doc) for doc in nlp.pipe(brief_cleaning1, batch_size=500)]\n",
        "print('Time to clean up everything: {} mins'.format(round((time() - t) / 60, 2)))"
      ],
      "id": "d9467d26"
    },
    {
      "cell_type": "code",
      "execution_count": null,
      "metadata": {
        "id": "e02ac4e9"
      },
      "outputs": [],
      "source": [
        "t = time()\n",
        "stance = [str(doc) for doc in nlp.pipe(brief_cleaning2, batch_size=500)]\n",
        "print('Time to clean up everything: {} mins'.format(round((time() - t) / 60, 2)))"
      ],
      "id": "e02ac4e9"
    },
    {
      "cell_type": "code",
      "execution_count": null,
      "metadata": {
        "id": "9bb46e5f"
      },
      "outputs": [],
      "source": [
        "pre['cleaned_text'] = pd.Series(text)\n",
        "pre['cleaned_stance'] = pd.Series(stance)"
      ],
      "id": "9bb46e5f"
    },
    {
      "cell_type": "code",
      "execution_count": null,
      "metadata": {
        "id": "7c4dfa11"
      },
      "outputs": [],
      "source": [
        "pre"
      ],
      "id": "7c4dfa11"
    },
    {
      "cell_type": "code",
      "execution_count": null,
      "metadata": {
        "id": "9655d20e"
      },
      "outputs": [],
      "source": [
        "\n",
        "cnt=0\n",
        "for i in pre['cleaned_stance']:\n",
        "    if(len(i.split())<=150):\n",
        "        cnt=cnt+1\n",
        "print(cnt/len(pre['cleaned_stance']))"
      ],
      "id": "9655d20e"
    },
    {
      "cell_type": "code",
      "execution_count": null,
      "metadata": {
        "id": "98488760"
      },
      "outputs": [],
      "source": [
        "cnt=0\n",
        "for i in pre['cleaned_text']:\n",
        "    if(len(i.split())<=1000):\n",
        "        cnt=cnt+1\n",
        "print(cnt/len(pre['cleaned_text']))"
      ],
      "id": "98488760"
    },
    {
      "cell_type": "code",
      "execution_count": null,
      "metadata": {
        "id": "df72e6d8"
      },
      "outputs": [],
      "source": [
        "max_text_len=1000\n",
        "max_stance_len=150"
      ],
      "id": "df72e6d8"
    },
    {
      "cell_type": "code",
      "execution_count": null,
      "metadata": {
        "id": "ccf04895"
      },
      "outputs": [],
      "source": [
        "cleaned_text =np.array(pre['cleaned_text'])\n",
        "cleaned_stance=np.array(pre['cleaned_stance'])\n",
        "\n",
        "short_text=[]\n",
        "short_stance=[]\n",
        "\n",
        "for i in range(len(cleaned_text)):\n",
        "    if(len(cleaned_stance[i].split())<=max_stance_len and len(cleaned_text[i].split())<=max_text_len):\n",
        "        short_text.append(cleaned_text[i])\n",
        "        short_stance.append(cleaned_stance[i])\n",
        "        \n",
        "post_pre=pd.DataFrame({'text':short_text,'stance':short_stance})"
      ],
      "id": "ccf04895"
    },
    {
      "cell_type": "code",
      "execution_count": null,
      "metadata": {
        "id": "4ca4f557"
      },
      "outputs": [],
      "source": [
        "post_pre = post_pre.rename(columns={\"stance\":\"target_text\", \"text\":\"source_text\"})\n",
        "post_pre = post_pre[['source_text', 'target_text']]"
      ],
      "id": "4ca4f557"
    },
    {
      "cell_type": "code",
      "execution_count": null,
      "metadata": {
        "id": "053369b6"
      },
      "outputs": [],
      "source": [
        "post_pre['source_text'] = \"genStance: \" + post_pre['source_text']\n",
        "post_pre"
      ],
      "id": "053369b6"
    },
    {
      "cell_type": "code",
      "execution_count": null,
      "metadata": {
        "colab": {
          "background_save": true
        },
        "id": "374a472a",
        "outputId": "a10b939d-5094-46a7-92ef-c66685f83675"
      },
      "outputs": [
        {
          "name": "stdout",
          "output_type": "stream",
          "text": [
            "\u001b[K     |████████████████████████████████| 1.2 MB 4.2 MB/s \n",
            "\u001b[K     |████████████████████████████████| 3.5 MB 27.1 MB/s \n",
            "\u001b[K     |████████████████████████████████| 527 kB 33.7 MB/s \n",
            "\u001b[K     |████████████████████████████████| 829 kB 28.8 MB/s \n",
            "\u001b[K     |████████████████████████████████| 952 kB 29.2 MB/s \n",
            "\u001b[K     |████████████████████████████████| 596 kB 22.9 MB/s \n",
            "\u001b[K     |████████████████████████████████| 409 kB 37.1 MB/s \n",
            "\u001b[K     |████████████████████████████████| 136 kB 32.8 MB/s \n",
            "\u001b[K     |████████████████████████████████| 880 kB 27.7 MB/s \n",
            "\u001b[K     |████████████████████████████████| 84 kB 2.4 MB/s \n",
            "\u001b[K     |████████████████████████████████| 6.6 MB 32.7 MB/s \n",
            "\u001b[K     |████████████████████████████████| 1.1 MB 37.2 MB/s \n",
            "\u001b[K     |████████████████████████████████| 144 kB 43.1 MB/s \n"
          ]
        }
      ],
      "source": [
        "! pip install simplet5 -q"
      ],
      "id": "374a472a"
    },
    {
      "cell_type": "code",
      "execution_count": null,
      "metadata": {
        "id": "14ee4d0c"
      },
      "outputs": [],
      "source": [
        "from simplet5 import SimpleT5\n",
        "\n",
        "model = SimpleT5()\n",
        "model.from_pretrained(model_type=\"t5\", model_name=\"t5-base\")"
      ],
      "id": "14ee4d0c"
    },
    {
      "cell_type": "code",
      "execution_count": null,
      "metadata": {
        "id": "86da8fe5"
      },
      "outputs": [],
      "source": [
        "from sklearn.model_selection import train_test_split\n",
        "train_df, test_df = train_test_split(post_pre, test_size=0.1)\n",
        "train_df.shape, test_df.shape"
      ],
      "id": "86da8fe5"
    },
    {
      "cell_type": "code",
      "execution_count": null,
      "metadata": {
        "id": "5062f18f"
      },
      "outputs": [],
      "source": [
        "model.train(train_df=train_df[:5000],\n",
        "            eval_df=test_df[:100], \n",
        "            source_max_token_len=128, \n",
        "            target_max_token_len=128, \n",
        "            batch_size=8, max_epochs=5, use_gpu=True)"
      ],
      "id": "5062f18f"
    },
    {
      "cell_type": "code",
      "execution_count": null,
      "metadata": {
        "id": "A21mL1vDJnHa"
      },
      "outputs": [],
      "source": [
        "!cd outputs; ls"
      ],
      "id": "A21mL1vDJnHa"
    },
    {
      "cell_type": "code",
      "execution_count": null,
      "metadata": {
        "id": "57849e24"
      },
      "outputs": [],
      "source": [
        "model.load_model(\"t5\",\"/content/outputs/simplet5-epoch-4-train-loss-0.9804-val-loss-1.2047\", use_gpu=True)"
      ],
      "id": "57849e24"
    },
    {
      "cell_type": "code",
      "execution_count": null,
      "metadata": {
        "id": "8_Rj0xCfxSX1"
      },
      "outputs": [],
      "source": [
        ""
      ],
      "id": "8_Rj0xCfxSX1"
    },
    {
      "cell_type": "code",
      "execution_count": null,
      "metadata": {
        "id": "6GcsYqMGmMpt"
      },
      "outputs": [],
      "source": [
        ""
      ],
      "id": "6GcsYqMGmMpt"
    },
    {
      "cell_type": "code",
      "execution_count": null,
      "metadata": {
        "id": "FZRAKQCymMsZ"
      },
      "outputs": [],
      "source": [
        "#save all output epochs"
      ],
      "id": "FZRAKQCymMsZ"
    },
    {
      "cell_type": "code",
      "execution_count": null,
      "metadata": {
        "id": "KsqKntRYwVRo"
      },
      "outputs": [],
      "source": [
        "!cp -r /content/outputs/ /content/drive/MyDrive/NLP/outputs/"
      ],
      "id": "KsqKntRYwVRo"
    },
    {
      "cell_type": "code",
      "execution_count": null,
      "metadata": {
        "id": "5sW_TaiawVU1"
      },
      "outputs": [],
      "source": [
        ""
      ],
      "id": "5sW_TaiawVU1"
    },
    {
      "cell_type": "code",
      "execution_count": null,
      "metadata": {
        "id": "BQhPC0Um9Luc"
      },
      "outputs": [],
      "source": [
        "# Testing starts here"
      ],
      "id": "BQhPC0Um9Luc"
    },
    {
      "cell_type": "code",
      "execution_count": null,
      "metadata": {
        "id": "8YJvHmYwmFyW"
      },
      "outputs": [],
      "source": [
        "test_data=pd.read_csv(\"/content/drive/MyDrive/NLP/taskCTestData.csv\")"
      ],
      "id": "8YJvHmYwmFyW"
    },
    {
      "cell_type": "code",
      "execution_count": null,
      "metadata": {
        "id": "7V_3ZDNjmF0F"
      },
      "outputs": [],
      "source": [
        "test_data"
      ],
      "id": "7V_3ZDNjmF0F"
    },
    {
      "cell_type": "code",
      "execution_count": null,
      "metadata": {
        "id": "p6fgAalcmF19"
      },
      "outputs": [],
      "source": [
        "source_test_text=test_data.filter(items=['source_text']).values.tolist()\n",
        "source_test_text"
      ],
      "id": "p6fgAalcmF19"
    },
    {
      "cell_type": "code",
      "execution_count": null,
      "metadata": {
        "id": "GSMY9EbFmF34"
      },
      "outputs": [],
      "source": [
        "generated_stance=[]\n",
        "for input_text in source_test_text:\n",
        "  text_to_genStance='getStance: ' + input_text[0]\n",
        "  generated_stance.append(model.predict(text_to_genStance)[0])"
      ],
      "id": "GSMY9EbFmF34"
    },
    {
      "cell_type": "code",
      "execution_count": null,
      "metadata": {
        "id": "sQTQgp9DmF5i"
      },
      "outputs": [],
      "source": [
        "generated_stance"
      ],
      "id": "sQTQgp9DmF5i"
    },
    {
      "cell_type": "code",
      "execution_count": null,
      "metadata": {
        "id": "9iycJPJTmF9C"
      },
      "outputs": [],
      "source": [
        "type(generated_stance)"
      ],
      "id": "9iycJPJTmF9C"
    },
    {
      "cell_type": "code",
      "execution_count": null,
      "metadata": {
        "id": "bFEUxD862FX4"
      },
      "outputs": [],
      "source": [
        "test_data['generated_stance_text']=generated_stance\n",
        "test_data"
      ],
      "id": "bFEUxD862FX4"
    },
    {
      "cell_type": "code",
      "execution_count": null,
      "metadata": {
        "id": "FqChfe__2FaB"
      },
      "outputs": [],
      "source": [
        "test_data.to_csv('taskCResults.csv',index=False)"
      ],
      "id": "FqChfe__2FaB"
    },
    {
      "cell_type": "code",
      "execution_count": null,
      "metadata": {
        "id": "Kvo0jwq22Fb6"
      },
      "outputs": [],
      "source": [
        "!cp taskCResults.csv /content/drive/MyDrive/NLP/"
      ],
      "id": "Kvo0jwq22Fb6"
    },
    {
      "cell_type": "code",
      "execution_count": null,
      "metadata": {
        "id": "6jJmm7Iz2Ff4"
      },
      "outputs": [],
      "source": [
        ""
      ],
      "id": "6jJmm7Iz2Ff4"
    },
    {
      "cell_type": "code",
      "execution_count": null,
      "metadata": {
        "id": "IsKbbW3EJTdN"
      },
      "outputs": [],
      "source": [
        ""
      ],
      "id": "IsKbbW3EJTdN"
    },
    {
      "cell_type": "code",
      "execution_count": null,
      "metadata": {
        "colab": {
          "base_uri": "https://localhost:8080/",
          "height": 572
        },
        "id": "o9DA7EqzJTgP",
        "outputId": "17fc489a-64a4-42c3-e0bb-a75e83cd9778"
      },
      "outputs": [
        {
          "name": "stdout",
          "output_type": "stream",
          "text": [
            "Found existing installation: matplotlib 3.1.3\n",
            "Uninstalling matplotlib-3.1.3:\n",
            "  Would remove:\n",
            "    /usr/local/lib/python3.7/dist-packages/matplotlib-3.1.3-py3.7-nspkg.pth\n",
            "    /usr/local/lib/python3.7/dist-packages/matplotlib-3.1.3.dist-info/*\n",
            "    /usr/local/lib/python3.7/dist-packages/matplotlib/*\n",
            "    /usr/local/lib/python3.7/dist-packages/mpl_toolkits/axes_grid/*\n",
            "    /usr/local/lib/python3.7/dist-packages/mpl_toolkits/axes_grid1/*\n",
            "    /usr/local/lib/python3.7/dist-packages/mpl_toolkits/axisartist/*\n",
            "    /usr/local/lib/python3.7/dist-packages/mpl_toolkits/mplot3d/*\n",
            "    /usr/local/lib/python3.7/dist-packages/mpl_toolkits/tests/*\n",
            "    /usr/local/lib/python3.7/dist-packages/pylab.py\n",
            "Proceed (y/n)? y\n",
            "  Successfully uninstalled matplotlib-3.1.3\n",
            "Collecting matplotlib==3.1.3\n",
            "  Using cached matplotlib-3.1.3-cp37-cp37m-manylinux1_x86_64.whl (13.1 MB)\n",
            "Requirement already satisfied: numpy>=1.11 in /usr/local/lib/python3.7/dist-packages (from matplotlib==3.1.3) (1.21.6)\n",
            "Requirement already satisfied: cycler>=0.10 in /usr/local/lib/python3.7/dist-packages (from matplotlib==3.1.3) (0.11.0)\n",
            "Requirement already satisfied: python-dateutil>=2.1 in /usr/local/lib/python3.7/dist-packages (from matplotlib==3.1.3) (2.8.2)\n",
            "Requirement already satisfied: kiwisolver>=1.0.1 in /usr/local/lib/python3.7/dist-packages (from matplotlib==3.1.3) (1.4.2)\n",
            "Requirement already satisfied: pyparsing!=2.0.4,!=2.1.2,!=2.1.6,>=2.0.1 in /usr/local/lib/python3.7/dist-packages (from matplotlib==3.1.3) (3.0.8)\n",
            "Requirement already satisfied: typing-extensions in /usr/local/lib/python3.7/dist-packages (from kiwisolver>=1.0.1->matplotlib==3.1.3) (4.2.0)\n",
            "Requirement already satisfied: six>=1.5 in /usr/local/lib/python3.7/dist-packages (from python-dateutil>=2.1->matplotlib==3.1.3) (1.15.0)\n",
            "Installing collected packages: matplotlib\n",
            "\u001b[31mERROR: pip's dependency resolver does not currently take into account all the packages that are installed. This behaviour is the source of the following dependency conflicts.\n",
            "albumentations 0.1.12 requires imgaug<0.2.7,>=0.2.5, but you have imgaug 0.2.9 which is incompatible.\u001b[0m\n",
            "Successfully installed matplotlib-3.1.3\n"
          ]
        },
        {
          "data": {
            "application/vnd.colab-display-data+json": {
              "pip_warning": {
                "packages": [
                  "matplotlib",
                  "mpl_toolkits"
                ]
              }
            }
          },
          "metadata": {},
          "output_type": "display_data"
        }
      ],
      "source": [
        "!python -m pip uninstall matplotlib\n",
        "!pip install matplotlib==3.1.3"
      ],
      "id": "o9DA7EqzJTgP"
    },
    {
      "cell_type": "code",
      "execution_count": null,
      "metadata": {
        "id": "amjkiT5V2Fhu"
      },
      "outputs": [],
      "source": [
        "import matplotlib.pyplot as plt "
      ],
      "id": "amjkiT5V2Fhu"
    },
    {
      "cell_type": "code",
      "execution_count": null,
      "metadata": {
        "colab": {
          "base_uri": "https://localhost:8080/",
          "height": 295
        },
        "id": "5BOiRhUkJXAK",
        "outputId": "9224865a-4d41-43c5-a015-dd82d7d68860"
      },
      "outputs": [
        {
          "data": {
            "image/png": "[encoded data removed]",
            "text/plain": [
              "<Figure size 432x288 with 1 Axes>"
            ]
          },
          "metadata": {},
          "output_type": "display_data"
        }
      ],
      "source": [
        "Epochs = [0,1,2,3,4]\n",
        "train_loss = [1.5848,1.2941,1.1719,1.0613,0.9804]\n",
        "val_loss = [1.3135,1.2434,1.2004,1.1884,1.2047]\n",
        "  \n",
        "\n",
        "  \n",
        "plt.plot(Epochs, train_loss, color ='orange', label ='Train')\n",
        "  \n",
        "plt.plot(Epochs, val_loss, color ='g', label ='Validation')\n",
        "  \n",
        "plt.xlabel('Epochs')\n",
        "plt.ylabel('Loss')\n",
        "  \n",
        "plt.title('Loss over epochs while training')\n",
        "  \n",
        "plt.legend()\n",
        "plt.show()"
      ],
      "id": "5BOiRhUkJXAK"
    }
  ],
  "metadata": {
    "accelerator": "GPU",
    "colab": {
      "collapsed_sections": [],
      "name": "FinalTaskC.ipynb",
      "provenance": []
    },
    "kernelspec": {
      "display_name": "Python 3 (ipykernel)",
      "language": "python",
      "name": "python3"
    },
    "language_info": {
      "codemirror_mode": {
        "name": "ipython",
        "version": 3
      },
      "file_extension": ".py",
      "mimetype": "text/x-python",
      "name": "python",
      "nbconvert_exporter": "python",
      "pygments_lexer": "ipython3",
      "version": "3.8.8"
    },
    "papermill": {
      "default_parameters": {},
      "duration": 1240.948995,
      "end_time": "2022-02-20T09:08:04.495014",
      "environment_variables": {},
      "exception": null,
      "input_path": "__notebook__.ipynb",
      "output_path": "__notebook__.ipynb",
      "parameters": {},
      "start_time": "2022-02-20T08:47:23.546019",
      "version": "2.3.3"
    }
  },
  "nbformat": 4,
  "nbformat_minor": 5
}